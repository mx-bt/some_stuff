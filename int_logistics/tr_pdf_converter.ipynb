{
 "cells": [
  {
   "cell_type": "code",
   "execution_count": 1,
   "metadata": {},
   "outputs": [
    {
     "name": "stdout",
     "output_type": "stream",
     "text": [
      "Processed:  Folien 001-14.pdf\n",
      "Processed:  Folien 015-30.pdf\n",
      "Processed:  Folien 031-50.pdf\n",
      "Processed:  Folien 051-71.pdf\n",
      "Processed:  Folien 072-84.pdf\n",
      "Processed:  Folien 085-102.pdf\n",
      "Processed:  Folien 103-107.pdf\n",
      "Processed:  Folien 108-138.pdf\n",
      "Processed:  Folien 139-190.pdf\n",
      "Die PDF-Dateien wurden erfolgreich zusammengeführt und in C:\\Users\\moberth\\OneDrive - iPoint-systems gmbh\\Documents\\99 Private\\TR\\Folien\\Technikrecht_Folien.pdf gespeichert.\n"
     ]
    }
   ],
   "source": [
    "# C:\\Users\\moberth\\OneDrive - iPoint-systems gmbh\\Documents\\99 Private\\TR\\Folien\n",
    "\n",
    "import os\n",
    "import pikepdf\n",
    "from PyPDF2 import PdfMerger\n",
    "\n",
    "def remove_pdf_password(input_pdf, output_pdf, password):\n",
    "    with pikepdf.open(input_pdf, password=password) as pdf:\n",
    "        pdf.save(output_pdf)\n",
    "\n",
    "def merge_pdfs(pdf_list, output_pdf):\n",
    "    merger = PdfMerger()\n",
    "    for pdf in pdf_list:\n",
    "        merger.append(pdf)\n",
    "    merger.write(output_pdf)\n",
    "    merger.close()\n",
    "\n",
    "# Verzeichnis mit den PDF-Dateien\n",
    "directory = r'C:\\Users\\moberth\\OneDrive - iPoint-systems gmbh\\Documents\\99 Private\\TR\\Folien'\n",
    "\n",
    "input_files = [f for f in os.listdir(directory) if f.endswith('.pdf')]\n",
    "decrypted_files = []\n",
    "\n",
    "# Passwörter entfernen\n",
    "for input_file in input_files:\n",
    "    input_path = os.path.join(directory, input_file)\n",
    "    print(\"Processed: \",input_file)\n",
    "    output_file = f'{os.path.splitext(input_file)[0]}_decrypted.pdf'\n",
    "    output_path = os.path.join(directory, output_file)\n",
    "    decrypted_files.append(output_path)\n",
    "    password = 'material'\n",
    "    if password:\n",
    "        remove_pdf_password(input_path, output_path, password)\n",
    "\n",
    "# PDFs zusammenführen\n",
    "output_merged_pdf = os.path.join(directory, 'Technikrecht_Folien.pdf')\n",
    "merge_pdfs(decrypted_files, output_merged_pdf)\n",
    "\n",
    "print(f'Die PDF-Dateien wurden erfolgreich zusammengeführt und in {output_merged_pdf} gespeichert.')\n"
   ]
  }
 ],
 "metadata": {
  "kernelspec": {
   "display_name": "myenv",
   "language": "python",
   "name": "python3"
  },
  "language_info": {
   "codemirror_mode": {
    "name": "ipython",
    "version": 3
   },
   "file_extension": ".py",
   "mimetype": "text/x-python",
   "name": "python",
   "nbconvert_exporter": "python",
   "pygments_lexer": "ipython3",
   "version": "3.10.11"
  }
 },
 "nbformat": 4,
 "nbformat_minor": 2
}
