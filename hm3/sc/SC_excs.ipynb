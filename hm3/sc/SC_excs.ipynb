{
 "cells": [
  {
   "cell_type": "code",
   "execution_count": 1,
   "metadata": {},
   "outputs": [],
   "source": [
    "import numpy as np"
   ]
  },
  {
   "cell_type": "code",
   "execution_count": 167,
   "metadata": {},
   "outputs": [
    {
     "name": "stdout",
     "output_type": "stream",
     "text": [
      "Matrix Org\n",
      "[[7. 5. 9. 8. 9.]\n",
      " [6. 9. 1. 9. 6.]\n",
      " [3. 6. 8. 4. 6.]\n",
      " [4. 4. 1. 7. 9.]\n",
      " [6. 9. 6. 1. 5.]]\n",
      "Vector Org\n",
      "[[3. 8. 5. 9. 7.]]\n",
      "Result Matrix: \n",
      "[[1. 0. 0. 0. 0.]\n",
      " [0. 1. 0. 0. 0.]\n",
      " [0. 0. 1. 0. 0.]\n",
      " [0. 0. 0. 1. 0.]\n",
      " [0. 0. 0. 0. 1.]]\n",
      "Result Vector: \n",
      "[[0.]\n",
      " [2.]\n",
      " [1.]\n",
      " [6.]\n",
      " [0.]]\n"
     ]
    }
   ],
   "source": [
    "# Creating random matrices to truly test the versatility of our code\n",
    "def createrandomfloatmatrix(m_shape,n_shape):\n",
    "    import random as rd\n",
    "    matrix = np.zeros((m_shape, n_shape))\n",
    "    for m in range(m_shape):\n",
    "        for n in range(n_shape):\n",
    "            matrix[m,n] = rd.randrange(1,10)\n",
    "        \n",
    "    return matrix\n",
    "\n",
    "def triangular(A,b):\n",
    "    for m in range(np.shape(A)[0]):\n",
    "        # print(m) 0,1,2\n",
    "        f = A[m,m]\n",
    "        A[m,:] =  A[m,:] / f\n",
    "        b[0,m] =  b[0,m] / f\n",
    "\n",
    "        for i in range(np.shape(A)[0]-1-m):\n",
    "            A[i+1+m,:] = A[i+1+m,:] - A[m,:]*A[i+1+m,m]\n",
    "            b[0,i+1+m] = b[0,i+1+m] - b[0,m]*A[i+1+m,m]\n",
    "    return A,b\n",
    "\n",
    "# backsub !?\n",
    "\n",
    "\n",
    "\n",
    "\n",
    "def solveAxb(A,b):\n",
    "    # starting from row m(max)-1, subract this row * value of target row from all other rows\n",
    "    # ... repeat until target row indices iterated\n",
    "    # ... repeat until \"killer\" row is row index 1\n",
    "    A,b = triangular(A,b)\n",
    "\n",
    "    for tm in range(np.shape(A)[0]-1):\n",
    "        i = np.shape(A)[0] - tm - 1\n",
    "        for m in range(np.shape(A)[0]-1-tm):\n",
    "            A[m,:] = A[m,:] - A[i,:]*A[m,i]\n",
    "            b[0,m] = b[0,m] - b[0,i]*A[m,i]\n",
    "    return A,b\n",
    "\n",
    "mA = createrandomfloatmatrix(5,5)\n",
    "vb = createrandomfloatmatrix(1,5)\n",
    "print(\"Matrix Org\")\n",
    "print(mA)\n",
    "print(\"Vector Org\")\n",
    "print(vb)\n",
    "\n",
    "rmA, rvb = solveAxb(mA,vb)\n",
    "\n",
    "print(\"Result Matrix: \")\n",
    "print(np.round(rmA))\n",
    "print(\"Result Vector: \")\n",
    "print(np.round(np.transpose(rvb)))\n"
   ]
  },
  {
   "cell_type": "code",
   "execution_count": 89,
   "metadata": {},
   "outputs": [
    {
     "name": "stdout",
     "output_type": "stream",
     "text": [
      "Result Matrix: \n",
      "[[1. 0. 0. 0. 0.]\n",
      " [0. 1. 0. 0. 0.]\n",
      " [0. 0. 1. 0. 0.]\n",
      " [0. 0. 0. 1. 0.]\n",
      " [0. 0. 0. 0. 1.]]\n",
      "Result Vector: \n",
      "[[ 1.]\n",
      " [14.]\n",
      " [-0.]\n",
      " [ 0.]\n",
      " [ 2.]]\n"
     ]
    }
   ],
   "source": [
    "# Testing Function\n",
    "\n",
    "A_test = np.array([[1., 1, 1],[1,  2, 3],[1,  2, 4]])\n",
    "b_test = np.array([6.,14,17])\n",
    "\n",
    "A_,b_ = triangular(mA,vb)\n",
    "rmA, rvb = solveAxb(A_,b_)\n",
    "\n",
    "print(\"Result Matrix: \")\n",
    "print(np.round(rmA))\n",
    "print(\"Result Vector: \")\n",
    "print(np.round(np.transpose(rvb)))"
   ]
  },
  {
   "cell_type": "code",
   "execution_count": 110,
   "metadata": {},
   "outputs": [
    {
     "data": {
      "text/plain": [
       "-3"
      ]
     },
     "execution_count": 110,
     "metadata": {},
     "output_type": "execute_result"
    }
   ],
   "source": [
    "smX = np.matrix([[3,3],\n",
    "                 [4,3]])\n",
    "\n",
    "def detAij(tbt_M):\n",
    "    return tbt_M[0,0]*tbt_M[1,1] - tbt_M[0,1]*tbt_M[1,0]\n",
    "\n",
    "detAij(smX)"
   ]
  },
  {
   "cell_type": "code",
   "execution_count": 170,
   "metadata": {},
   "outputs": [
    {
     "name": "stdout",
     "output_type": "stream",
     "text": [
      "Checkpoint (Triangle 0)\n",
      "[[1. 1. 0. 1.]\n",
      " [9. 9. 5. 9.]\n",
      " [7. 7. 7. 1.]\n",
      " [1. 2. 5. 2.]]\n",
      "[[0.14285714 0.         0.         0.        ]\n",
      " [0.         1.         0.         0.        ]\n",
      " [0.         0.         1.         0.        ]\n",
      " [0.         0.         0.         1.        ]]\n",
      "Checkpoint (Triangle 1)\n",
      "[[ 1.  1.  0.  1.]\n",
      " [-0.  1. -0. -0.]\n",
      " [ 0. -2.  4. -5.]\n",
      " [ 0.  1.  5.  1.]]\n",
      "[[ 0.14285714  0.          0.          0.        ]\n",
      " [-0.         -0.38888889 -0.         -0.        ]\n",
      " [ 0.          0.          1.          0.        ]\n",
      " [ 0.          0.          0.          1.        ]]\n",
      "Checkpoint (Triangle 2)\n",
      "[[ 1.  1.  0.  1.]\n",
      " [-0.  1. -0. -0.]\n",
      " [ 0.  0.  1. -2.]\n",
      " [ 0.  0.  5.  2.]]\n",
      "[[ 0.14285714  0.          0.          0.        ]\n",
      " [-0.         -0.38888889 -0.         -0.        ]\n",
      " [ 0.          0.          0.32142857  0.        ]\n",
      " [ 0.          0.          0.          1.        ]]\n",
      "Checkpoint (Triangle 3)\n",
      "[[ 1.  1.  0.  1.]\n",
      " [-0.  1. -0. -0.]\n",
      " [ 0.  0.  1. -2.]\n",
      " [ 0.  0.  0.  1.]]\n",
      "[[ 0.14285714  0.          0.          0.        ]\n",
      " [-0.         -0.38888889 -0.         -0.        ]\n",
      " [ 0.          0.          0.32142857  0.        ]\n",
      " [ 0.          0.          0.          0.09150327]]\n",
      "Checkpoint (Triangle)\n",
      "[[ 1.  1.  0.  1.]\n",
      " [-0.  1. -0. -0.]\n",
      " [ 0.  0.  1. -2.]\n",
      " [ 0.  0.  0.  1.]]\n",
      "[[ 0.  0.  0.  0.]\n",
      " [-0. -0. -0. -0.]\n",
      " [ 0.  0.  0.  0.]\n",
      " [ 0.  0.  0.  0.]]\n",
      "\n",
      "A, b after\n",
      "[[1. 0. 0. 0.]\n",
      " [0. 1. 0. 0.]\n",
      " [0. 0. 1. 0.]\n",
      " [0. 0. 0. 1.]]\n",
      "[[ 0.  0.  0.  0.]\n",
      " [-0. -0. -0. -0.]\n",
      " [ 0.  0.  0.  0.]\n",
      " [ 0.  0.  0.  0.]]\n"
     ]
    },
    {
     "data": {
      "text/plain": [
       "array([[ 0.14285714,  0.        ,  0.        ,  0.        ],\n",
       "       [-0.        , -0.38888889, -0.        , -0.        ],\n",
       "       [ 0.        ,  0.        ,  0.32142857,  0.        ],\n",
       "       [ 0.        ,  0.        ,  0.        ,  0.09150327]])"
      ]
     },
     "execution_count": 170,
     "metadata": {},
     "output_type": "execute_result"
    }
   ],
   "source": [
    "tmA = createrandomfloatmatrix(4,4)\n",
    "tmB = createrandomfloatmatrix(4,4)\n",
    "\n",
    "def Inverse(A):\n",
    "    # Part 1 (Triangular)\n",
    "    b = np.eye(np.shape(A)[0])\n",
    "\n",
    "    #   triangular\n",
    "    for m in range(np.shape(A)[0]):\n",
    "        # print(m) 0,1,2\n",
    "        f = A[m,m]\n",
    "        A[m,:] =  A[m,:] / f\n",
    "        b[m,:] =  b[m,:] / f\n",
    "\n",
    "        for i in range(np.shape(A)[0]-1-m):\n",
    "            A[i+1+m,:] = A[i+1+m,:] - A[m,:]*A[i+1+m,m]\n",
    "            b[i+1+m,:] = b[i+1+m,:] - b[m,:]*A[i+1+m,m]\n",
    "\n",
    "        print(f\"Checkpoint (Triangle {m})\")\n",
    "        print(np.round(A))\n",
    "        print(b)\n",
    "    \n",
    "    #   solve\n",
    "    for tm in range(np.shape(A)[0]-1):\n",
    "        i = np.shape(A)[0] - tm - 1\n",
    "        for m in range(np.shape(A)[0]-1-tm):\n",
    "            A[m,:] = A[m,:] - A[i,:]*A[m,i]\n",
    "            b[m,:] = b[m,:] - b[i,:]*A[m,i]\n",
    "\n",
    "    print(\"\")\n",
    "    print(\"A, b after\")\n",
    "    print(np.round(A))\n",
    "    print(np.round(b))\n",
    "    return b\n",
    "\n",
    "\n",
    "\n",
    "Inverse(tmA)"
   ]
  },
  {
   "cell_type": "code",
   "execution_count": null,
   "metadata": {},
   "outputs": [],
   "source": [
    "# testing inverse with hand calculated example\n",
    "\n",
    "test_A = np.matrix([[1.,0.,1.],[0.,2.,1.],[1.,1.,1.]])"
   ]
  },
  {
   "cell_type": "code",
   "execution_count": 171,
   "metadata": {},
   "outputs": [
    {
     "name": "stdout",
     "output_type": "stream",
     "text": [
      "[[1. 0. 0.]\n",
      " [0. 1. 0.]\n",
      " [0. 0. 1.]]\n",
      "[[1. 0. 4.]\n",
      " [0. 1. 0.]\n",
      " [0. 0. 1.]]\n"
     ]
    }
   ],
   "source": [
    "Eye = np.eye(3)\n",
    "print(Eye)\n",
    "\n",
    "Eye[0,2] = 4\n",
    "print(Eye)"
   ]
  }
 ],
 "metadata": {
  "kernelspec": {
   "display_name": "base",
   "language": "python",
   "name": "python3"
  },
  "language_info": {
   "codemirror_mode": {
    "name": "ipython",
    "version": 3
   },
   "file_extension": ".py",
   "mimetype": "text/x-python",
   "name": "python",
   "nbconvert_exporter": "python",
   "pygments_lexer": "ipython3",
   "version": "3.10.9"
  },
  "orig_nbformat": 4
 },
 "nbformat": 4,
 "nbformat_minor": 2
}
