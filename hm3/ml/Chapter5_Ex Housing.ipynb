{
 "cells": [
  {
   "cell_type": "code",
   "execution_count": 2,
   "id": "1b350f53",
   "metadata": {},
   "outputs": [],
   "source": [
    "import os\n",
    "HOUSING_PATH = os.path.join(\"datasets\",\"housing\") # Defines a path in the folder where I'm currently working in\n",
    "import pandas as pd # Delivers a panda-DataFrame-Object with all data\n",
    "def load_housing_data(housing_path=HOUSING_PATH):\n",
    "    csv_path = os.path.join(housing_path,\"housing.csv\")\n",
    "    return pd.read_csv(csv_path)\n",
    "housing = load_housing_data()\n"
   ]
  },
  {
   "cell_type": "code",
   "execution_count": 3,
   "id": "680cd7aa",
   "metadata": {},
   "outputs": [
    {
     "data": {
      "image/png": "[encoded data removed]",
      "text/plain": [
       "<Figure size 640x480 with 1 Axes>"
      ]
     },
     "metadata": {},
     "output_type": "display_data"
    }
   ],
   "source": [
    "\"Stratify our median incomes into income categories\"\n",
    "import numpy as np\n",
    "housing[\"income_cat\"] = pd.cut(housing[\"median_income\"], bins=[0.,1.5,3.0,4.5,6., np.inf], labels=[\"1 Crackrat (0-15k$)\",\"2 Homeless (15-30k$)\",\"3 Peasant (30-45k$)\",\"4 Salaryslave (45-60k$)\",\"5 DevelopsAIinforesthideout (>60k$)\"])\n",
    "housing[\"income_cat\"].hist()\n",
    "# Based on our income categories, we apply a SSS to avoid bias in our small test set\n",
    "from sklearn.model_selection import StratifiedShuffleSplit\n",
    "SS_split = StratifiedShuffleSplit(n_splits=1, test_size=0.2, random_state=42)\n",
    "for train_index, test_index in SS_split.split(housing,housing[\"income_cat\"]):\n",
    "    strat_train_set = housing.loc[train_index]\n",
    "    strat_test_set = housing.loc[test_index]"
   ]
  },
  {
   "cell_type": "code",
   "execution_count": 4,
   "id": "5cf7d706",
   "metadata": {},
   "outputs": [
    {
     "name": "stdout",
     "output_type": "stream",
     "text": [
      "                       Income Category  Normal Proportion  \\\n",
      "0                  3 Peasant (30-45k$)           0.350581   \n",
      "1                 2 Homeless (15-30k$)           0.318847   \n",
      "2              4 Salaryslave (45-60k$)           0.176308   \n",
      "3  5 DevelopsAIinforesthideout (>60k$)           0.114438   \n",
      "4                  1 Crackrat (0-15k$)           0.039826   \n",
      "\n",
      "   Strat Test Proportion  \n",
      "0               0.350533  \n",
      "1               0.318798  \n",
      "2               0.176357  \n",
      "3               0.114341  \n",
      "4               0.039971  \n"
     ]
    }
   ],
   "source": [
    "# The proportions of the income_cat groups are defined as the following fractions\n",
    "total_value_counts = housing[\"income_cat\"].value_counts() / len(housing)\n",
    "strat_test_value_counts = strat_test_set[\"income_cat\"].value_counts()/ len(strat_test_set)\n",
    "\n",
    "# Convert the Series object to a DataFrame with appropriate column names\n",
    "df_comparison = pd.DataFrame({\n",
    "    \"Income Category\": total_value_counts.index,\n",
    "    \"Normal Proportion\": total_value_counts.values,\n",
    "    \"Strat Test Proportion\": strat_test_value_counts.values,\n",
    "})\n",
    "print(df_comparison)\n",
    "\n",
    "# After using the stratisfyer category, we shall delete it from our train and test sets to avoid influence on our further procedure\n",
    "for set_ in (strat_train_set, strat_test_set):\n",
    "    set_.drop(\"income_cat\",axis=1,inplace=True)"
   ]
  },
  {
   "cell_type": "code",
   "execution_count": 15,
   "id": "0ec63bf1",
   "metadata": {},
   "outputs": [
    {
     "name": "stdout",
     "output_type": "stream",
     "text": [
      "median_house_value    1.000000\n",
      "median_income         0.687151\n",
      "total_rooms           0.135140\n",
      "housing_median_age    0.114146\n",
      "households            0.064590\n",
      "total_bedrooms        0.047781\n",
      "population           -0.026882\n",
      "longitude            -0.047466\n",
      "latitude             -0.142673\n",
      "Name: median_house_value, dtype: float64\n"
     ]
    }
   ],
   "source": [
    "# Searching for useful correlation in the data\n",
    "corr_matrix = strat_train_set.corr(numeric_only=True)\n",
    "print(corr_matrix[\"median_house_value\"].sort_values(ascending=False))\n",
    "# Create a heatmap using the DataFrame\n"
   ]
  },
  {
   "cell_type": "code",
   "execution_count": 17,
   "id": "576d69de",
   "metadata": {},
   "outputs": [],
   "source": [
    "# Separating the labels from the train set\n",
    "X_train = strat_train_set.drop(\"median_house_value\",axis=1)\n",
    "y_train = strat_train_set[\"median_house_value\"].copy()\n",
    "# Creating numerical trainset for our Simple Imputer\n",
    "X_num = X_train.drop(\"ocean_proximity\",axis=1)"
   ]
  },
  {
   "cell_type": "code",
   "execution_count": 20,
   "id": "6023ca91",
   "metadata": {},
   "outputs": [
    {
     "data": {
      "text/plain": [
       "array([[-1.2146e+02,  3.8520e+01,  2.9000e+01, ...,  2.2370e+03,\n",
       "         7.0600e+02,  2.1736e+00],\n",
       "       [-1.1723e+02,  3.3090e+01,  7.0000e+00, ...,  2.0150e+03,\n",
       "         7.6800e+02,  6.3373e+00],\n",
       "       [-1.1904e+02,  3.5370e+01,  4.4000e+01, ...,  6.6700e+02,\n",
       "         3.0000e+02,  2.8750e+00],\n",
       "       ...,\n",
       "       [-1.2272e+02,  3.8440e+01,  4.8000e+01, ...,  4.5800e+02,\n",
       "         1.7200e+02,  3.1797e+00],\n",
       "       [-1.2270e+02,  3.8310e+01,  1.4000e+01, ...,  1.2080e+03,\n",
       "         5.0100e+02,  4.1964e+00],\n",
       "       [-1.2214e+02,  3.9970e+01,  2.7000e+01, ...,  6.2500e+02,\n",
       "         1.9700e+02,  3.1319e+00]])"
      ]
     },
     "execution_count": 20,
     "metadata": {},
     "output_type": "execute_result"
    }
   ],
   "source": [
    "X_num"
   ]
  },
  {
   "cell_type": "code",
   "execution_count": 21,
   "id": "a54efc70",
   "metadata": {},
   "outputs": [
    {
     "name": "stdout",
     "output_type": "stream",
     "text": [
      "      ocean_proximity\n",
      "12655          INLAND\n",
      "15502      NEAR OCEAN\n",
      "2908           INLAND\n",
      "14053      NEAR OCEAN\n",
      "20496       <1H OCEAN\n",
      "...               ...\n",
      "15174       <1H OCEAN\n",
      "12661          INLAND\n",
      "19263       <1H OCEAN\n",
      "19140       <1H OCEAN\n",
      "19773          INLAND\n",
      "\n",
      "[16512 rows x 1 columns]\n",
      "[[0. 1. 0. 0. 0.]\n",
      " [0. 0. 0. 0. 1.]\n",
      " [0. 1. 0. 0. 0.]\n",
      " ...\n",
      " [1. 0. 0. 0. 0.]\n",
      " [1. 0. 0. 0. 0.]\n",
      " [0. 1. 0. 0. 0.]]\n"
     ]
    }
   ],
   "source": [
    "from sklearn.impute import SimpleImputer\n",
    "imputer = SimpleImputer(strategy=\"median\")\n",
    "X_num = imputer.fit_transform(X_num) # Fitting the Imputer instance to the data set\n",
    "\n",
    "X_num = pd.DataFrame(X_num, columns=X_train.drop(\"ocean_proximity\",axis=1).columns, index=X_train.index)\n",
    "\n",
    "trainset_opcat = X_train[[\"ocean_proximity\"]]\n",
    "\n",
    "print(trainset_opcat) \n",
    "from sklearn.preprocessing import OneHotEncoder\n",
    "OHE = OneHotEncoder()\n",
    "housing_cat_1hot = OHE.fit_transform(trainset_opcat)\n",
    "print(housing_cat_1hot.toarray())"
   ]
  },
  {
   "cell_type": "code",
   "execution_count": 22,
   "id": "4bf3e82a",
   "metadata": {},
   "outputs": [],
   "source": [
    "\"\"\"Definition of Own Transformer\"\"\"\n",
    "from sklearn.base import BaseEstimator, TransformerMixin\n",
    "rooms_ix, bedrooms_ix, population_ix, households_ix = 3,4,5,6\n",
    "class CombinedAttributesAdder(BaseEstimator,TransformerMixin):\n",
    "    def __init__(self,add_bedrooms_per_room = True):\n",
    "        self.add_bedrooms_per_room = add_bedrooms_per_room\n",
    "    def fit(self,X,y=None):\n",
    "        return self\n",
    "    def transform(self,X,y=None):\n",
    "        rooms_per_household = X[:,rooms_ix]/X[:,households_ix]\n",
    "        population_per_household = X[:,population_ix]/X[:,households_ix]\n",
    "        if self.add_bedrooms_per_room:\n",
    "            bedrooms_per_room = X[:,bedrooms_ix]/X[:,rooms_ix]\n",
    "            return np.c_[X,rooms_per_household,population_per_household,bedrooms_per_room]\n",
    "        else:\n",
    "            return np.c_[X,rooms_per_household,population_per_household]\n",
    "attr_adder = CombinedAttributesAdder(add_bedrooms_per_room=False)\n",
    "housing_extra_attribs = attr_adder.transform(housing.values)\n"
   ]
  },
  {
   "cell_type": "code",
   "execution_count": 24,
   "id": "0c78c8f6",
   "metadata": {},
   "outputs": [],
   "source": [
    "# Pipeline for automatic data transformation\n",
    "# Output is basically all we did before, but faster\n",
    "# Tranforms all numerical values into the Standard-Derivation form\n",
    "# Tranforms all categorical values into a OneHot-Matrix\n",
    "# type(housing_prepared) = numpy.ndarray !\n",
    "from sklearn.pipeline import Pipeline\n",
    "from sklearn.preprocessing import StandardScaler\n",
    "\n",
    "num_pipeline = Pipeline([\n",
    "    (\"imputer\", SimpleImputer(strategy=\"median\")),\n",
    "    (\"attribs_adder\", CombinedAttributesAdder()),\n",
    "    (\"std_scaler\",StandardScaler())    \n",
    "])\n",
    "housing_num_tr = num_pipeline.fit_transform(X_num)\n",
    "\n",
    "from sklearn.compose import ColumnTransformer\n",
    "\n",
    "num_attribs = list(X_num)\n",
    "cat_attribs = [\"ocean_proximity\"]\n",
    "\n",
    "full_pipeline = ColumnTransformer([\n",
    "    (\"num\",num_pipeline,num_attribs),\n",
    "    (\"cat\", OneHotEncoder(),cat_attribs)\n",
    "])\n",
    "X_prepared = full_pipeline.fit_transform(X_train)"
   ]
  },
  {
   "cell_type": "code",
   "execution_count": 33,
   "id": "802b2f9f",
   "metadata": {},
   "outputs": [
    {
     "name": "stdout",
     "output_type": "stream",
     "text": [
      "Best Par:  {'C': 100, 'kernel': 'linear'}\n",
      "Best Est:  SVR(C=100, kernel='linear')\n",
      "74974.75609233239 {'C': 40, 'kernel': 'linear'}\n",
      "74001.00619098038 {'C': 50, 'kernel': 'linear'}\n",
      "73345.96924504881 {'C': 60, 'kernel': 'linear'}\n",
      "72868.81231703966 {'C': 70, 'kernel': 'linear'}\n",
      "72554.14726708234 {'C': 80, 'kernel': 'linear'}\n",
      "72134.461671831 {'C': 100, 'kernel': 'linear'}\n"
     ]
    }
   ],
   "source": [
    "\"\"\"Support Vector Regression\"\"\"\n",
    "\"\"\"Systematic Search For Hyperparameters: Grid Search\"\"\"\n",
    "from sklearn.model_selection import GridSearchCV as GS\n",
    "from sklearn.svm import SVR\n",
    "\n",
    "svr = SVR()\n",
    "\n",
    "param_grid = [\n",
    "    {\"kernel\":['linear'],\"C\":[40,50,60,70,80,100]}\n",
    "]\n",
    "\n",
    "grid_search = GS(svr,\n",
    "                 param_grid,\n",
    "                 cv=3,\n",
    "                 scoring=\"neg_mean_squared_error\",\n",
    "                 return_train_score=True\n",
    ")\n",
    "\n",
    "grid_search.fit(X_prepared,y_train) # Takes a while >3min\n",
    "best_parameters = grid_search.best_params_\n",
    "print(\"Best Par: \", best_parameters)\n",
    "best_estimator = grid_search.best_estimator_\n",
    "print(\"Best Est: \",best_estimator)\n",
    "cvres = grid_search.cv_results_\n",
    "for mean_score, params in zip (cvres[\"mean_test_score\"],cvres[\"params\"]):\n",
    "    print(np.sqrt(-mean_score),params)"
   ]
  },
  {
   "cell_type": "code",
   "execution_count": null,
   "id": "6eb87954",
   "metadata": {},
   "outputs": [],
   "source": [
    "\"\"\"Feature Importance\"\"\"\n",
    "feature_importances = grid_search.best_estimator_.feature_importances_\n",
    "print(\"Default : \", feature_importances)\n",
    "extra_attribs = [\"rooms_per_hhld\",\"population_per_hhld\",\"bedrooms_per_room\"]\n",
    "cat_encoder1 = full_pipeline.named_transformers_[\"cat\"]\n",
    "cat_1hot_attribs = list(cat_encoder1.categories_[0])\n",
    "attributes1 = num_attribs + extra_attribs + cat_1hot_attribs\n",
    "print(\"\")\n",
    "\n",
    "resultz = sorted(zip(feature_importances, attributes1), reverse=True)\n",
    "for importance, attribute in resultz:\n",
    "    print(f\"Importance: {importance}, Attribute: {attribute}\")"
   ]
  },
  {
   "cell_type": "code",
   "execution_count": 35,
   "id": "56503f80",
   "metadata": {},
   "outputs": [
    {
     "name": "stdout",
     "output_type": "stream",
     "text": [
      "Model used:  SVR(C=100, kernel='linear')\n",
      "RMSE : 69499.58221771539\n"
     ]
    }
   ],
   "source": [
    "\"\"\"Evaluation on Test Data\"\"\"\n",
    "from sklearn.metrics import mean_squared_error as mse \n",
    "\n",
    "final_model = grid_search.best_estimator_\n",
    "print(\"Model used: \", final_model)\n",
    "\n",
    "X_test = strat_test_set.drop(\"median_house_value\",axis=1)\n",
    "y_test = strat_test_set[\"median_house_value\"].copy()\n",
    "\n",
    "X_test_prepared = full_pipeline.transform(X_test)\n",
    "\n",
    "y_pred = pd.Series(final_model.predict(X_test_prepared))\n",
    "\n",
    "final_rmse = np.sqrt(mse(y_test, y_pred))\n",
    "print(\"RMSE :\",final_rmse)\n"
   ]
  },
  {
   "cell_type": "code",
   "execution_count": 36,
   "id": "89ecdd7d",
   "metadata": {},
   "outputs": [
    {
     "name": "stdout",
     "output_type": "stream",
     "text": [
      "There is a 95% probability that the true mean squared error is between 67011.0 and 71902.0.\n"
     ]
    },
    {
     "data": {
      "text/plain": [
       "array([67011.23772994, 71901.86280463])"
      ]
     },
     "execution_count": 36,
     "metadata": {},
     "output_type": "execute_result"
    }
   ],
   "source": [
    "from scipy import stats\n",
    "confidence = 0.95\n",
    "y_pred1 = y_pred.reset_index(drop=True)\n",
    "y_test1 = y_test.reset_index(drop=True)\n",
    "squared_errors = (y_pred1 - y_test1) ** 2\n",
    "interval = np.sqrt(stats.t.interval(confidence,len(squared_errors)-1,\n",
    "                         loc=squared_errors.mean(),\n",
    "                         scale=stats.sem(squared_errors)))\n",
    "\n",
    "\"The confidence level specified in the function is 0.95,\"\n",
    "print(f\"There is a 95% probability that the true mean squared error is between {round(interval[0],0)} and {round(interval[1],0)}.\")\n",
    "interval\n"
   ]
  }
 ],
 "metadata": {
  "kernelspec": {
   "display_name": "Python 3 (ipykernel)",
   "language": "python",
   "name": "python3"
  },
  "language_info": {
   "codemirror_mode": {
    "name": "ipython",
    "version": 3
   },
   "file_extension": ".py",
   "mimetype": "text/x-python",
   "name": "python",
   "nbconvert_exporter": "python",
   "pygments_lexer": "ipython3",
   "version": "3.10.9"
  }
 },
 "nbformat": 4,
 "nbformat_minor": 5
}
