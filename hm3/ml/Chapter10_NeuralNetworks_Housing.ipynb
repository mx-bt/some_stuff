{
 "cells": [
  {
   "cell_type": "code",
   "execution_count": 4,
   "metadata": {},
   "outputs": [],
   "source": [
    "from sklearn.model_selection import train_test_split\n",
    "from sklearn.preprocessing import StandardScaler\n",
    "from sklearn.metrics import accuracy_score\n",
    "import tensorflow as tf\n",
    "from tensorflow import keras\n",
    "import pandas as pd\n",
    "import matplotlib.pyplot as plt \n",
    "import random as rd\n",
    "import numpy as np"
   ]
  },
  {
   "cell_type": "code",
   "execution_count": 40,
   "metadata": {},
   "outputs": [],
   "source": [
    "from sklearn.datasets import fetch_california_housing\n",
    "housingdata = fetch_california_housing()\n",
    "\n",
    "sser = StandardScaler()\n",
    "X = sser.fit_transform(housingdata.data,housingdata.target)\n",
    "X_train_full,X_test,y_train_full,y_test = train_test_split(X,housingdata.target,test_size=0.25)\n",
    "X_train,X_valid,y_train,y_valid = train_test_split(X_train_full,y_train_full,test_size=0.25)"
   ]
  },
  {
   "cell_type": "code",
   "execution_count": 41,
   "metadata": {},
   "outputs": [
    {
     "name": "stdout",
     "output_type": "stream",
     "text": [
      "Epoch 1/50\n",
      "363/363 [==============================] - 1s 1ms/step - loss: 0.8512 - val_loss: 0.5708\n",
      "Epoch 2/50\n",
      "363/363 [==============================] - 0s 1ms/step - loss: 0.4797 - val_loss: 0.5087\n",
      "Epoch 3/50\n",
      "363/363 [==============================] - 0s 1ms/step - loss: 0.4440 - val_loss: 0.4902\n",
      "Epoch 4/50\n",
      "363/363 [==============================] - 0s 1ms/step - loss: 0.4257 - val_loss: 0.4777\n",
      "Epoch 5/50\n",
      "363/363 [==============================] - 1s 1ms/step - loss: 0.4152 - val_loss: 0.4711\n",
      "Epoch 6/50\n",
      "363/363 [==============================] - 1s 1ms/step - loss: 0.4066 - val_loss: 0.4568\n",
      "Epoch 7/50\n",
      "363/363 [==============================] - 1s 1ms/step - loss: 0.3974 - val_loss: 0.4510\n",
      "Epoch 8/50\n",
      "363/363 [==============================] - 1s 1ms/step - loss: 0.3905 - val_loss: 0.4480\n",
      "Epoch 9/50\n",
      "363/363 [==============================] - 1s 1ms/step - loss: 0.3849 - val_loss: 0.4422\n",
      "Epoch 10/50\n",
      "363/363 [==============================] - 1s 1ms/step - loss: 0.3825 - val_loss: 0.4426\n",
      "Epoch 11/50\n",
      "363/363 [==============================] - 1s 1ms/step - loss: 0.3806 - val_loss: 0.4349\n",
      "Epoch 12/50\n",
      "363/363 [==============================] - 1s 1ms/step - loss: 0.3808 - val_loss: 0.4363\n",
      "Epoch 13/50\n",
      "363/363 [==============================] - 1s 1ms/step - loss: 0.3733 - val_loss: 0.4334\n",
      "Epoch 14/50\n",
      "363/363 [==============================] - 1s 1ms/step - loss: 0.3724 - val_loss: 0.4298\n",
      "Epoch 15/50\n",
      "363/363 [==============================] - 1s 1ms/step - loss: 0.3725 - val_loss: 0.4258\n",
      "Epoch 16/50\n",
      "363/363 [==============================] - 1s 1ms/step - loss: 0.3699 - val_loss: 0.4250\n",
      "Epoch 17/50\n",
      "363/363 [==============================] - 1s 1ms/step - loss: 0.3681 - val_loss: 0.4239\n",
      "Epoch 18/50\n",
      "363/363 [==============================] - 1s 1ms/step - loss: 0.3635 - val_loss: 0.4246\n",
      "Epoch 19/50\n",
      "363/363 [==============================] - 1s 1ms/step - loss: 0.3659 - val_loss: 0.4181\n",
      "Epoch 20/50\n",
      "363/363 [==============================] - 1s 1ms/step - loss: 0.3665 - val_loss: 0.4199\n",
      "Epoch 21/50\n",
      "363/363 [==============================] - 1s 1ms/step - loss: 0.3646 - val_loss: 0.4238\n",
      "Epoch 22/50\n",
      "363/363 [==============================] - 1s 1ms/step - loss: 0.3598 - val_loss: 0.4216\n",
      "Epoch 23/50\n",
      "363/363 [==============================] - 1s 1ms/step - loss: 0.3588 - val_loss: 0.4195\n",
      "Epoch 24/50\n",
      "363/363 [==============================] - 1s 1ms/step - loss: 0.3570 - val_loss: 0.4161\n",
      "Epoch 25/50\n",
      "363/363 [==============================] - 1s 1ms/step - loss: 0.3574 - val_loss: 0.4180\n",
      "Epoch 26/50\n",
      "363/363 [==============================] - 1s 1ms/step - loss: 0.3556 - val_loss: 0.4134\n",
      "Epoch 27/50\n",
      "363/363 [==============================] - 1s 1ms/step - loss: 0.3547 - val_loss: 0.4142\n",
      "Epoch 28/50\n",
      "363/363 [==============================] - 1s 1ms/step - loss: 0.3565 - val_loss: 0.4190\n",
      "Epoch 29/50\n",
      "363/363 [==============================] - 1s 1ms/step - loss: 0.3512 - val_loss: 0.4113\n",
      "Epoch 30/50\n",
      "363/363 [==============================] - 1s 1ms/step - loss: 0.3516 - val_loss: 0.4093\n",
      "Epoch 31/50\n",
      "363/363 [==============================] - 1s 1ms/step - loss: 0.3539 - val_loss: 0.4081\n",
      "Epoch 32/50\n",
      "363/363 [==============================] - 1s 1ms/step - loss: 0.3558 - val_loss: 0.4117\n",
      "Epoch 33/50\n",
      "363/363 [==============================] - 1s 1ms/step - loss: 0.3486 - val_loss: 0.4073\n",
      "Epoch 34/50\n",
      "363/363 [==============================] - 1s 1ms/step - loss: 0.3475 - val_loss: 0.4160\n",
      "Epoch 35/50\n",
      "363/363 [==============================] - 1s 1ms/step - loss: 0.3492 - val_loss: 0.4049\n",
      "Epoch 36/50\n",
      "363/363 [==============================] - 1s 1ms/step - loss: 0.3479 - val_loss: 0.4281\n",
      "Epoch 37/50\n",
      "363/363 [==============================] - 1s 1ms/step - loss: 0.3486 - val_loss: 0.4011\n",
      "Epoch 38/50\n",
      "363/363 [==============================] - 1s 1ms/step - loss: 0.3832 - val_loss: 0.4089\n",
      "Epoch 39/50\n",
      "363/363 [==============================] - 1s 1ms/step - loss: 0.3498 - val_loss: 0.4040\n",
      "Epoch 40/50\n",
      "363/363 [==============================] - 1s 1ms/step - loss: 0.3459 - val_loss: 0.4017\n",
      "Epoch 41/50\n",
      "363/363 [==============================] - 1s 1ms/step - loss: 0.3489 - val_loss: 0.4082\n",
      "Epoch 42/50\n",
      "363/363 [==============================] - 1s 1ms/step - loss: 0.3442 - val_loss: 0.4313\n",
      "Epoch 43/50\n",
      "363/363 [==============================] - 1s 1ms/step - loss: 0.3499 - val_loss: 0.4072\n",
      "Epoch 44/50\n",
      "363/363 [==============================] - 1s 1ms/step - loss: 0.3431 - val_loss: 0.4022\n",
      "Epoch 45/50\n",
      "363/363 [==============================] - 1s 1ms/step - loss: 0.3546 - val_loss: 0.3979\n",
      "Epoch 46/50\n",
      "363/363 [==============================] - 1s 1ms/step - loss: 0.3508 - val_loss: 0.3949\n",
      "Epoch 47/50\n",
      "363/363 [==============================] - 1s 1ms/step - loss: 0.3431 - val_loss: 0.3987\n",
      "Epoch 48/50\n",
      "363/363 [==============================] - 1s 1ms/step - loss: 0.3370 - val_loss: 0.4004\n",
      "Epoch 49/50\n",
      "363/363 [==============================] - 1s 1ms/step - loss: 0.3357 - val_loss: 0.3923\n",
      "Epoch 50/50\n",
      "363/363 [==============================] - 1s 1ms/step - loss: 0.3345 - val_loss: 0.4009\n"
     ]
    }
   ],
   "source": [
    "\n",
    "nnmr = keras.models.Sequential([\n",
    "    keras.layers.Dense(30,activation=\"relu\",input_shape=X_train.shape[1:]),\n",
    "    keras.layers.Dense(1,activation=\"relu\"),\n",
    "])\n",
    "# nnm.summary()\n",
    "#from keras.optimizers import SGD\n",
    "#optimizer=SGD(learning_rate=0.01)\n",
    "nnmr.compile(loss=\"mean_squared_error\",optimizer=\"sgd\")\n",
    "# weights,biases = nnm.layers[1].get_weights()\n",
    "history = nnmr.fit(X_train,y_train,epochs=50,batch_size=32,validation_data=(X_valid,y_valid))"
   ]
  },
  {
   "cell_type": "code",
   "execution_count": 28,
   "metadata": {},
   "outputs": [
    {
     "data": {
      "image/png": "[encoded data removed]",
      "text/plain": [
       "<Figure size 800x500 with 1 Axes>"
      ]
     },
     "metadata": {},
     "output_type": "display_data"
    }
   ],
   "source": [
    "import pandas as pd\n",
    "import matplotlib.pyplot as plt\n",
    "\n",
    "pd.DataFrame(history.history).plot(figsize=(8,5))\n",
    "plt.grid(True)\n",
    "plt.gca().set_ylim(0,1)\n",
    "plt.show()\n",
    "\n"
   ]
  },
  {
   "cell_type": "code",
   "execution_count": 31,
   "metadata": {},
   "outputs": [
    {
     "name": "stdout",
     "output_type": "stream",
     "text": [
      "162/162 [==============================] - 0s 784us/step - loss: 0.3096\n",
      "162/162 [==============================] - 0s 685us/step\n"
     ]
    },
    {
     "data": {
      "text/plain": [
       "0.30955962359714784"
      ]
     },
     "execution_count": 31,
     "metadata": {},
     "output_type": "execute_result"
    }
   ],
   "source": [
    "nnmr.evaluate(X_test,y_test)\n",
    "y_pred = nnmr.predict(X_test)\n",
    "from sklearn.metrics import mean_squared_error\n",
    "mean_squared_error(y_test,y_pred)"
   ]
  }
 ],
 "metadata": {
  "kernelspec": {
   "display_name": "base",
   "language": "python",
   "name": "python3"
  },
  "language_info": {
   "codemirror_mode": {
    "name": "ipython",
    "version": 3
   },
   "file_extension": ".py",
   "mimetype": "text/x-python",
   "name": "python",
   "nbconvert_exporter": "python",
   "pygments_lexer": "ipython3",
   "version": "3.10.9"
  },
  "orig_nbformat": 4
 },
 "nbformat": 4,
 "nbformat_minor": 2
}
