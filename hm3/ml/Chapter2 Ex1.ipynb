{
 "cells": [
  {
   "cell_type": "code",
   "execution_count": 5,
   "id": "1b350f53",
   "metadata": {},
   "outputs": [],
   "source": [
    "import os\n",
    "import tarfile\n",
    "import urllib\n",
    "import matplotlib.pyplot as plt\n",
    "\n",
    "DOWNLOAD_ROOT = \"https://raw.githubusercontent.com/ageron/handson-ml2/master/\" # a download-only linked\n",
    "HOUSING_PATH = os.path.join(\"datasets\",\"housing\") # Defines a path in the folder where I'm currently working in\n",
    "HOUSING_URL = DOWNLOAD_ROOT + \"datasets/housing/housing.tgz\" # defining the saving and extraction path"
   ]
  },
  {
   "cell_type": "code",
   "execution_count": 6,
   "id": "d6fc2abd",
   "metadata": {},
   "outputs": [],
   "source": [
    "def fetch_housing_data(housing_url=HOUSING_URL, housing_path=HOUSING_PATH): # defining function to extract and save housing data\n",
    "    os.makedirs(housing_path, exist_ok=True) # # Creates a path in the folder where I'm currently working in, based on housing_path defintion\n",
    "    tgz_path = os.path.join(housing_path,\"housing.tgz\") # Defines a path for the tgz file\n",
    "    urllib.request.urlretrieve(housing_url,tgz_path) # Defines the path from where to where the following actions will be executed\n",
    "    housing_tgz = tarfile.open(tgz_path) # Opens the tarfile in githubusercontent\n",
    "    housing_tgz.extractall(path=housing_path) # Extracts the content of tgz to our housing_path\n",
    "    housing_tgz.close() # closing the tarfile\n"
   ]
  },
  {
   "cell_type": "code",
   "execution_count": 7,
   "id": "a2395443",
   "metadata": {},
   "outputs": [],
   "source": [
    "fetch_housing_data() # fetches our housing data"
   ]
  },
  {
   "cell_type": "code",
   "execution_count": 8,
   "id": "563b4082",
   "metadata": {},
   "outputs": [],
   "source": [
    "import pandas as pd # Delivers a panda-DataFrame-Object with all data\n",
    "def load_housing_data(housing_path=HOUSING_PATH):\n",
    "    csv_path = os.path.join(housing_path,\"housing.csv\")\n",
    "    return pd.read_csv(csv_path)"
   ]
  },
  {
   "cell_type": "code",
   "execution_count": 9,
   "id": "e7b9dbd0",
   "metadata": {},
   "outputs": [],
   "source": [
    "housing = load_housing_data()"
   ]
  },
  {
   "cell_type": "code",
   "execution_count": 10,
   "id": "ef11e3ab",
   "metadata": {},
   "outputs": [
    {
     "data": {
      "text/plain": [
       "ISLAND           5\n",
       "NEAR BAY      2290\n",
       "NEAR OCEAN    2658\n",
       "INLAND        6551\n",
       "<1H OCEAN     9136\n",
       "Name: ocean_proximity, dtype: int64"
      ]
     },
     "execution_count": 10,
     "metadata": {},
     "output_type": "execute_result"
    }
   ],
   "source": [
    "housing[\"ocean_proximity\"].value_counts(normalize=False,ascending=True)"
   ]
  },
  {
   "cell_type": "code",
   "execution_count": 11,
   "id": "97af6255",
   "metadata": {},
   "outputs": [
    {
     "data": {
      "text/plain": [
       "(0.484, 3.4]    9683\n",
       "(3.4, 6.3]      9088\n",
       "(6.3, 9.2]      1488\n",
       "(9.2, 12.1]      271\n",
       "(12.1, 15.0]     110\n",
       "Name: median_income, dtype: int64"
      ]
     },
     "execution_count": 11,
     "metadata": {},
     "output_type": "execute_result"
    }
   ],
   "source": [
    "housing[\"median_income\"].value_counts(bins=5)"
   ]
  },
  {
   "cell_type": "code",
   "execution_count": 12,
   "id": "aa005a04",
   "metadata": {},
   "outputs": [
    {
     "data": {
      "text/html": [
       "<div>\n",
       "<style scoped>\n",
       "    .dataframe tbody tr th:only-of-type {\n",
       "        vertical-align: middle;\n",
       "    }\n",
       "\n",
       "    .dataframe tbody tr th {\n",
       "        vertical-align: top;\n",
       "    }\n",
       "\n",
       "    .dataframe thead th {\n",
       "        text-align: right;\n",
       "    }\n",
       "</style>\n",
       "<table border=\"1\" class=\"dataframe\">\n",
       "  <thead>\n",
       "    <tr style=\"text-align: right;\">\n",
       "      <th></th>\n",
       "      <th>longitude</th>\n",
       "      <th>latitude</th>\n",
       "      <th>housing_median_age</th>\n",
       "      <th>total_rooms</th>\n",
       "      <th>total_bedrooms</th>\n",
       "      <th>population</th>\n",
       "      <th>households</th>\n",
       "      <th>median_income</th>\n",
       "      <th>median_house_value</th>\n",
       "      <th>ocean_proximity</th>\n",
       "    </tr>\n",
       "  </thead>\n",
       "  <tbody>\n",
       "    <tr>\n",
       "      <th>0</th>\n",
       "      <td>-122.23</td>\n",
       "      <td>37.88</td>\n",
       "      <td>41.0</td>\n",
       "      <td>880.0</td>\n",
       "      <td>129.0</td>\n",
       "      <td>322.0</td>\n",
       "      <td>126.0</td>\n",
       "      <td>8.3252</td>\n",
       "      <td>452600.0</td>\n",
       "      <td>NEAR BAY</td>\n",
       "    </tr>\n",
       "    <tr>\n",
       "      <th>1</th>\n",
       "      <td>-122.22</td>\n",
       "      <td>37.86</td>\n",
       "      <td>21.0</td>\n",
       "      <td>7099.0</td>\n",
       "      <td>1106.0</td>\n",
       "      <td>2401.0</td>\n",
       "      <td>1138.0</td>\n",
       "      <td>8.3014</td>\n",
       "      <td>358500.0</td>\n",
       "      <td>NEAR BAY</td>\n",
       "    </tr>\n",
       "    <tr>\n",
       "      <th>2</th>\n",
       "      <td>-122.24</td>\n",
       "      <td>37.85</td>\n",
       "      <td>52.0</td>\n",
       "      <td>1467.0</td>\n",
       "      <td>190.0</td>\n",
       "      <td>496.0</td>\n",
       "      <td>177.0</td>\n",
       "      <td>7.2574</td>\n",
       "      <td>352100.0</td>\n",
       "      <td>NEAR BAY</td>\n",
       "    </tr>\n",
       "    <tr>\n",
       "      <th>3</th>\n",
       "      <td>-122.25</td>\n",
       "      <td>37.85</td>\n",
       "      <td>52.0</td>\n",
       "      <td>1274.0</td>\n",
       "      <td>235.0</td>\n",
       "      <td>558.0</td>\n",
       "      <td>219.0</td>\n",
       "      <td>5.6431</td>\n",
       "      <td>341300.0</td>\n",
       "      <td>NEAR BAY</td>\n",
       "    </tr>\n",
       "    <tr>\n",
       "      <th>4</th>\n",
       "      <td>-122.25</td>\n",
       "      <td>37.85</td>\n",
       "      <td>52.0</td>\n",
       "      <td>1627.0</td>\n",
       "      <td>280.0</td>\n",
       "      <td>565.0</td>\n",
       "      <td>259.0</td>\n",
       "      <td>3.8462</td>\n",
       "      <td>342200.0</td>\n",
       "      <td>NEAR BAY</td>\n",
       "    </tr>\n",
       "    <tr>\n",
       "      <th>5</th>\n",
       "      <td>-122.25</td>\n",
       "      <td>37.85</td>\n",
       "      <td>52.0</td>\n",
       "      <td>919.0</td>\n",
       "      <td>213.0</td>\n",
       "      <td>413.0</td>\n",
       "      <td>193.0</td>\n",
       "      <td>4.0368</td>\n",
       "      <td>269700.0</td>\n",
       "      <td>NEAR BAY</td>\n",
       "    </tr>\n",
       "    <tr>\n",
       "      <th>6</th>\n",
       "      <td>-122.25</td>\n",
       "      <td>37.84</td>\n",
       "      <td>52.0</td>\n",
       "      <td>2535.0</td>\n",
       "      <td>489.0</td>\n",
       "      <td>1094.0</td>\n",
       "      <td>514.0</td>\n",
       "      <td>3.6591</td>\n",
       "      <td>299200.0</td>\n",
       "      <td>NEAR BAY</td>\n",
       "    </tr>\n",
       "    <tr>\n",
       "      <th>7</th>\n",
       "      <td>-122.25</td>\n",
       "      <td>37.84</td>\n",
       "      <td>52.0</td>\n",
       "      <td>3104.0</td>\n",
       "      <td>687.0</td>\n",
       "      <td>1157.0</td>\n",
       "      <td>647.0</td>\n",
       "      <td>3.1200</td>\n",
       "      <td>241400.0</td>\n",
       "      <td>NEAR BAY</td>\n",
       "    </tr>\n",
       "    <tr>\n",
       "      <th>8</th>\n",
       "      <td>-122.26</td>\n",
       "      <td>37.84</td>\n",
       "      <td>42.0</td>\n",
       "      <td>2555.0</td>\n",
       "      <td>665.0</td>\n",
       "      <td>1206.0</td>\n",
       "      <td>595.0</td>\n",
       "      <td>2.0804</td>\n",
       "      <td>226700.0</td>\n",
       "      <td>NEAR BAY</td>\n",
       "    </tr>\n",
       "    <tr>\n",
       "      <th>9</th>\n",
       "      <td>-122.25</td>\n",
       "      <td>37.84</td>\n",
       "      <td>52.0</td>\n",
       "      <td>3549.0</td>\n",
       "      <td>707.0</td>\n",
       "      <td>1551.0</td>\n",
       "      <td>714.0</td>\n",
       "      <td>3.6912</td>\n",
       "      <td>261100.0</td>\n",
       "      <td>NEAR BAY</td>\n",
       "    </tr>\n",
       "  </tbody>\n",
       "</table>\n",
       "</div>"
      ],
      "text/plain": [
       "   longitude  latitude  housing_median_age  total_rooms  total_bedrooms  \\\n",
       "0    -122.23     37.88                41.0        880.0           129.0   \n",
       "1    -122.22     37.86                21.0       7099.0          1106.0   \n",
       "2    -122.24     37.85                52.0       1467.0           190.0   \n",
       "3    -122.25     37.85                52.0       1274.0           235.0   \n",
       "4    -122.25     37.85                52.0       1627.0           280.0   \n",
       "5    -122.25     37.85                52.0        919.0           213.0   \n",
       "6    -122.25     37.84                52.0       2535.0           489.0   \n",
       "7    -122.25     37.84                52.0       3104.0           687.0   \n",
       "8    -122.26     37.84                42.0       2555.0           665.0   \n",
       "9    -122.25     37.84                52.0       3549.0           707.0   \n",
       "\n",
       "   population  households  median_income  median_house_value ocean_proximity  \n",
       "0       322.0       126.0         8.3252            452600.0        NEAR BAY  \n",
       "1      2401.0      1138.0         8.3014            358500.0        NEAR BAY  \n",
       "2       496.0       177.0         7.2574            352100.0        NEAR BAY  \n",
       "3       558.0       219.0         5.6431            341300.0        NEAR BAY  \n",
       "4       565.0       259.0         3.8462            342200.0        NEAR BAY  \n",
       "5       413.0       193.0         4.0368            269700.0        NEAR BAY  \n",
       "6      1094.0       514.0         3.6591            299200.0        NEAR BAY  \n",
       "7      1157.0       647.0         3.1200            241400.0        NEAR BAY  \n",
       "8      1206.0       595.0         2.0804            226700.0        NEAR BAY  \n",
       "9      1551.0       714.0         3.6912            261100.0        NEAR BAY  "
      ]
     },
     "execution_count": 12,
     "metadata": {},
     "output_type": "execute_result"
    }
   ],
   "source": [
    "housing_wID = housing.reset_index()\n",
    "housing_wID[\"id\"] = housing[\"latitude\"]*1000 + housing[\"latitude\"] # Intented to create unique IDs for datasets, but doesn't work bruh\n",
    "housing.head(10)"
   ]
  },
  {
   "cell_type": "code",
   "execution_count": 13,
   "id": "7467da6d",
   "metadata": {},
   "outputs": [],
   "source": [
    "# Creating \"regular\" train-test-split\n",
    "from sklearn.model_selection import train_test_split\n",
    "TEST_SIZE = 0.2 \n",
    "train_set, test_set = train_test_split(housing,test_size=TEST_SIZE,random_state=42)"
   ]
  },
  {
   "cell_type": "code",
   "execution_count": 14,
   "id": "680cd7aa",
   "metadata": {},
   "outputs": [
    {
     "data": {
      "image/png": "[encoded data removed]",
      "text/plain": [
       "<Figure size 640x480 with 1 Axes>"
      ]
     },
     "metadata": {},
     "output_type": "display_data"
    }
   ],
   "source": [
    "# Stratify our median incomes into income categories\n",
    "import numpy as np\n",
    "housing[\"income_cat\"] = pd.cut(housing[\"median_income\"], bins=[0.,1.5,3.0,4.5,6., np.inf], labels=[\"1 Crackrat (0-15k$)\",\"2 Homeless (15-30k$)\",\"3 Peasant (30-45k$)\",\"4 Salaryslave (45-60k$)\",\"5 DevelopsAIinforesthideout (>60k$)\"])\n",
    "housing[\"income_cat\"].hist()\n",
    "plt.title(\"Income Groups California 1990\")\n",
    "plt.xlabel(\"Group\")\n",
    "plt.ylabel(\"Total Count\")\n",
    "plt.xticks(rotation=45)\n",
    "plt.show()"
   ]
  },
  {
   "cell_type": "code",
   "execution_count": 15,
   "id": "69e29ac3",
   "metadata": {},
   "outputs": [
    {
     "data": {
      "text/plain": [
       "3 Peasant (30-45k$)                    0.350533\n",
       "2 Homeless (15-30k$)                   0.318798\n",
       "4 Salaryslave (45-60k$)                0.176357\n",
       "5 DevelopsAIinforesthideout (>60k$)    0.114341\n",
       "1 Crackrat (0-15k$)                    0.039971\n",
       "Name: income_cat, dtype: float64"
      ]
     },
     "execution_count": 15,
     "metadata": {},
     "output_type": "execute_result"
    }
   ],
   "source": [
    "# Based on our income categories, we apply a SSS to avoid bias in our small test set\n",
    "from sklearn.model_selection import StratifiedShuffleSplit\n",
    "split = StratifiedShuffleSplit(n_splits=1, test_size=0.2, random_state=42)\n",
    "for train_index, test_index in split.split(housing,housing[\"income_cat\"]):\n",
    "    strat_train_set = housing.loc[train_index]\n",
    "    strat_test_set = housing.loc[test_index]\n",
    "\n",
    "strat_test_set[\"income_cat\"].value_counts()/ len(strat_test_set)"
   ]
  },
  {
   "cell_type": "code",
   "execution_count": 16,
   "id": "e44677a4",
   "metadata": {},
   "outputs": [],
   "source": [
    "TEST_SIZE = 0.2 \n",
    "train_set, test_set = train_test_split(housing,test_size=TEST_SIZE,random_state=42)"
   ]
  },
  {
   "cell_type": "code",
   "execution_count": 17,
   "id": "5cf7d706",
   "metadata": {},
   "outputs": [
    {
     "data": {
      "text/html": [
       "<div>\n",
       "<style scoped>\n",
       "    .dataframe tbody tr th:only-of-type {\n",
       "        vertical-align: middle;\n",
       "    }\n",
       "\n",
       "    .dataframe tbody tr th {\n",
       "        vertical-align: top;\n",
       "    }\n",
       "\n",
       "    .dataframe thead th {\n",
       "        text-align: right;\n",
       "    }\n",
       "</style>\n",
       "<table border=\"1\" class=\"dataframe\">\n",
       "  <thead>\n",
       "    <tr style=\"text-align: right;\">\n",
       "      <th></th>\n",
       "      <th>Income Category</th>\n",
       "      <th>Normal Proportion</th>\n",
       "      <th>Test Proportion</th>\n",
       "      <th>Test Proportion Error</th>\n",
       "      <th>Strat Test Proportion</th>\n",
       "      <th>Strat Test Proportion Error</th>\n",
       "    </tr>\n",
       "  </thead>\n",
       "  <tbody>\n",
       "    <tr>\n",
       "      <th>0</th>\n",
       "      <td>3 Peasant (30-45k$)</td>\n",
       "      <td>0.350581</td>\n",
       "      <td>0.358527</td>\n",
       "      <td>0.007946</td>\n",
       "      <td>0.350533</td>\n",
       "      <td>0.000048</td>\n",
       "    </tr>\n",
       "    <tr>\n",
       "      <th>1</th>\n",
       "      <td>2 Homeless (15-30k$)</td>\n",
       "      <td>0.318847</td>\n",
       "      <td>0.324370</td>\n",
       "      <td>0.005523</td>\n",
       "      <td>0.318798</td>\n",
       "      <td>0.000048</td>\n",
       "    </tr>\n",
       "    <tr>\n",
       "      <th>2</th>\n",
       "      <td>4 Salaryslave (45-60k$)</td>\n",
       "      <td>0.176308</td>\n",
       "      <td>0.167393</td>\n",
       "      <td>0.008915</td>\n",
       "      <td>0.176357</td>\n",
       "      <td>0.000048</td>\n",
       "    </tr>\n",
       "    <tr>\n",
       "      <th>3</th>\n",
       "      <td>5 DevelopsAIinforesthideout (&gt;60k$)</td>\n",
       "      <td>0.114438</td>\n",
       "      <td>0.109496</td>\n",
       "      <td>0.004942</td>\n",
       "      <td>0.114341</td>\n",
       "      <td>0.000097</td>\n",
       "    </tr>\n",
       "    <tr>\n",
       "      <th>4</th>\n",
       "      <td>1 Crackrat (0-15k$)</td>\n",
       "      <td>0.039826</td>\n",
       "      <td>0.040213</td>\n",
       "      <td>0.000388</td>\n",
       "      <td>0.039971</td>\n",
       "      <td>0.000145</td>\n",
       "    </tr>\n",
       "  </tbody>\n",
       "</table>\n",
       "</div>"
      ],
      "text/plain": [
       "                       Income Category  Normal Proportion  Test Proportion  \\\n",
       "0                  3 Peasant (30-45k$)           0.350581         0.358527   \n",
       "1                 2 Homeless (15-30k$)           0.318847         0.324370   \n",
       "2              4 Salaryslave (45-60k$)           0.176308         0.167393   \n",
       "3  5 DevelopsAIinforesthideout (>60k$)           0.114438         0.109496   \n",
       "4                  1 Crackrat (0-15k$)           0.039826         0.040213   \n",
       "\n",
       "   Test Proportion Error  Strat Test Proportion  Strat Test Proportion Error  \n",
       "0               0.007946               0.350533                     0.000048  \n",
       "1               0.005523               0.318798                     0.000048  \n",
       "2               0.008915               0.176357                     0.000048  \n",
       "3               0.004942               0.114341                     0.000097  \n",
       "4               0.000388               0.039971                     0.000145  "
      ]
     },
     "execution_count": 17,
     "metadata": {},
     "output_type": "execute_result"
    }
   ],
   "source": [
    "# The proportions of the income_cat groups are defined as the following fractions\n",
    "total_value_counts = housing[\"income_cat\"].value_counts() / len(housing)\n",
    "normal_test_value_counts = test_set[\"income_cat\"].value_counts()/ len(test_set)\n",
    "strat_test_value_counts = strat_test_set[\"income_cat\"].value_counts()/ len(strat_test_set)\n",
    "# The absolute value of their respective errors are described as \n",
    "abs_n_err = (abs((normal_test_value_counts.values)-(total_value_counts.values)))\n",
    "abs_s_err = (abs((strat_test_value_counts.values)-(total_value_counts.values)))\n",
    "\n",
    "# Convert the Series object to a DataFrame with appropriate column names\n",
    "df_comparison = pd.DataFrame({\n",
    "    \"Income Category\": total_value_counts.index,\n",
    "    \"Normal Proportion\": total_value_counts.values,\n",
    "    \"Test Proportion\": normal_test_value_counts.values,\n",
    "    \"Test Proportion Error\": abs_n_err,\n",
    "    \"Strat Test Proportion\": strat_test_value_counts.values,\n",
    "    \"Strat Test Proportion Error\": abs_s_err\n",
    "})\n",
    "df_comparison"
   ]
  },
  {
   "cell_type": "code",
   "execution_count": 18,
   "id": "97a00af4",
   "metadata": {},
   "outputs": [],
   "source": [
    "# After using the stratisfyer category, we shall delete it from our train and test sets to avoid influence on our further procedure\n",
    "for set_ in (strat_train_set, strat_test_set):\n",
    "    set_.drop(\"income_cat\",axis=1,inplace=True)"
   ]
  },
  {
   "cell_type": "code",
   "execution_count": 19,
   "id": "685b3dc1",
   "metadata": {},
   "outputs": [],
   "source": [
    "housing_buc = strat_train_set.copy()"
   ]
  },
  {
   "cell_type": "code",
   "execution_count": 20,
   "id": "57bdd5ec",
   "metadata": {},
   "outputs": [],
   "source": [
    "# Adding some custom properties for more noteworthy metrics\n",
    "housing_buc[\"rooms_per_household\"]=housing_buc[\"total_rooms\"]/housing_buc[\"households\"]\n",
    "housing_buc[\"bedrooms_per_room\"]=housing_buc[\"total_bedrooms\"]/housing_buc[\"total_rooms\"]\n",
    "housing_buc[\"population_per_household\"]=housing_buc[\"population\"]/housing_buc[\"households\"]"
   ]
  },
  {
   "cell_type": "code",
   "execution_count": 21,
   "id": "576d69de",
   "metadata": {},
   "outputs": [],
   "source": [
    "# Separating the labels from the train set\n",
    "housing_buc = strat_train_set.drop(\"median_house_value\",axis=1)\n",
    "housing_labels = strat_train_set[\"median_house_value\"].copy()"
   ]
  },
  {
   "cell_type": "code",
   "execution_count": 22,
   "id": "44841c61",
   "metadata": {},
   "outputs": [
    {
     "name": "stdout",
     "output_type": "stream",
     "text": [
      "433.0\n",
      "<class 'pandas.core.frame.DataFrame'>\n",
      "Int64Index: 16512 entries, 12655 to 19773\n",
      "Data columns (total 9 columns):\n",
      " #   Column              Non-Null Count  Dtype  \n",
      "---  ------              --------------  -----  \n",
      " 0   longitude           16512 non-null  float64\n",
      " 1   latitude            16512 non-null  float64\n",
      " 2   housing_median_age  16512 non-null  float64\n",
      " 3   total_rooms         16512 non-null  float64\n",
      " 4   total_bedrooms      16512 non-null  float64\n",
      " 5   population          16512 non-null  float64\n",
      " 6   households          16512 non-null  float64\n",
      " 7   median_income       16512 non-null  float64\n",
      " 8   ocean_proximity     16512 non-null  object \n",
      "dtypes: float64(8), object(1)\n",
      "memory usage: 1.3+ MB\n",
      "None\n"
     ]
    }
   ],
   "source": [
    "# We decide to fill the missing values with the median of the rest\n",
    "median_bedrooms = housing_buc[\"total_bedrooms\"].median()\n",
    "housing_buc[\"total_bedrooms\"].fillna(median_bedrooms,inplace=True)\n",
    "print(median_bedrooms)\n",
    "print(housing_buc.info())\n",
    "housing_num = housing_buc.drop(\"ocean_proximity\",axis=1)"
   ]
  },
  {
   "cell_type": "code",
   "execution_count": 23,
   "id": "a54efc70",
   "metadata": {},
   "outputs": [
    {
     "data": {
      "text/html": [
       "<style>#sk-container-id-1 {color: black;background-color: white;}#sk-container-id-1 pre{padding: 0;}#sk-container-id-1 div.sk-toggleable {background-color: white;}#sk-container-id-1 label.sk-toggleable__label {cursor: pointer;display: block;width: 100%;margin-bottom: 0;padding: 0.3em;box-sizing: border-box;text-align: center;}#sk-container-id-1 label.sk-toggleable__label-arrow:before {content: \"▸\";float: left;margin-right: 0.25em;color: #696969;}#sk-container-id-1 label.sk-toggleable__label-arrow:hover:before {color: black;}#sk-container-id-1 div.sk-estimator:hover label.sk-toggleable__label-arrow:before {color: black;}#sk-container-id-1 div.sk-toggleable__content {max-height: 0;max-width: 0;overflow: hidden;text-align: left;background-color: #f0f8ff;}#sk-container-id-1 div.sk-toggleable__content pre {margin: 0.2em;color: black;border-radius: 0.25em;background-color: #f0f8ff;}#sk-container-id-1 input.sk-toggleable__control:checked~div.sk-toggleable__content {max-height: 200px;max-width: 100%;overflow: auto;}#sk-container-id-1 input.sk-toggleable__control:checked~label.sk-toggleable__label-arrow:before {content: \"▾\";}#sk-container-id-1 div.sk-estimator input.sk-toggleable__control:checked~label.sk-toggleable__label {background-color: #d4ebff;}#sk-container-id-1 div.sk-label input.sk-toggleable__control:checked~label.sk-toggleable__label {background-color: #d4ebff;}#sk-container-id-1 input.sk-hidden--visually {border: 0;clip: rect(1px 1px 1px 1px);clip: rect(1px, 1px, 1px, 1px);height: 1px;margin: -1px;overflow: hidden;padding: 0;position: absolute;width: 1px;}#sk-container-id-1 div.sk-estimator {font-family: monospace;background-color: #f0f8ff;border: 1px dotted black;border-radius: 0.25em;box-sizing: border-box;margin-bottom: 0.5em;}#sk-container-id-1 div.sk-estimator:hover {background-color: #d4ebff;}#sk-container-id-1 div.sk-parallel-item::after {content: \"\";width: 100%;border-bottom: 1px solid gray;flex-grow: 1;}#sk-container-id-1 div.sk-label:hover label.sk-toggleable__label {background-color: #d4ebff;}#sk-container-id-1 div.sk-serial::before {content: \"\";position: absolute;border-left: 1px solid gray;box-sizing: border-box;top: 0;bottom: 0;left: 50%;z-index: 0;}#sk-container-id-1 div.sk-serial {display: flex;flex-direction: column;align-items: center;background-color: white;padding-right: 0.2em;padding-left: 0.2em;position: relative;}#sk-container-id-1 div.sk-item {position: relative;z-index: 1;}#sk-container-id-1 div.sk-parallel {display: flex;align-items: stretch;justify-content: center;background-color: white;position: relative;}#sk-container-id-1 div.sk-item::before, #sk-container-id-1 div.sk-parallel-item::before {content: \"\";position: absolute;border-left: 1px solid gray;box-sizing: border-box;top: 0;bottom: 0;left: 50%;z-index: -1;}#sk-container-id-1 div.sk-parallel-item {display: flex;flex-direction: column;z-index: 1;position: relative;background-color: white;}#sk-container-id-1 div.sk-parallel-item:first-child::after {align-self: flex-end;width: 50%;}#sk-container-id-1 div.sk-parallel-item:last-child::after {align-self: flex-start;width: 50%;}#sk-container-id-1 div.sk-parallel-item:only-child::after {width: 0;}#sk-container-id-1 div.sk-dashed-wrapped {border: 1px dashed gray;margin: 0 0.4em 0.5em 0.4em;box-sizing: border-box;padding-bottom: 0.4em;background-color: white;}#sk-container-id-1 div.sk-label label {font-family: monospace;font-weight: bold;display: inline-block;line-height: 1.2em;}#sk-container-id-1 div.sk-label-container {text-align: center;}#sk-container-id-1 div.sk-container {/* jupyter's `normalize.less` sets `[hidden] { display: none; }` but bootstrap.min.css set `[hidden] { display: none !important; }` so we also need the `!important` here to be able to override the default hidden behavior on the sphinx rendered scikit-learn.org. See: https://github.com/scikit-learn/scikit-learn/issues/21755 */display: inline-block !important;position: relative;}#sk-container-id-1 div.sk-text-repr-fallback {display: none;}</style><div id=\"sk-container-id-1\" class=\"sk-top-container\"><div class=\"sk-text-repr-fallback\"><pre>SimpleImputer(strategy=&#x27;median&#x27;)</pre><b>In a Jupyter environment, please rerun this cell to show the HTML representation or trust the notebook. <br />On GitHub, the HTML representation is unable to render, please try loading this page with nbviewer.org.</b></div><div class=\"sk-container\" hidden><div class=\"sk-item\"><div class=\"sk-estimator sk-toggleable\"><input class=\"sk-toggleable__control sk-hidden--visually\" id=\"sk-estimator-id-1\" type=\"checkbox\" checked><label for=\"sk-estimator-id-1\" class=\"sk-toggleable__label sk-toggleable__label-arrow\">SimpleImputer</label><div class=\"sk-toggleable__content\"><pre>SimpleImputer(strategy=&#x27;median&#x27;)</pre></div></div></div></div></div>"
      ],
      "text/plain": [
       "SimpleImputer(strategy='median')"
      ]
     },
     "execution_count": 23,
     "metadata": {},
     "output_type": "execute_result"
    }
   ],
   "source": [
    "from sklearn.impute import SimpleImputer\n",
    "housing_num = housing_buc.drop(\"ocean_proximity\",axis=1)\n",
    "imputer = SimpleImputer(strategy=\"median\")\n",
    "imputer.fit(housing_num) # Fitting the Imputer instance to the data set\n"
   ]
  },
  {
   "cell_type": "code",
   "execution_count": 24,
   "id": "8248a081",
   "metadata": {},
   "outputs": [
    {
     "name": "stdout",
     "output_type": "stream",
     "text": [
      "<class 'pandas.core.frame.DataFrame'>\n",
      "Int64Index: 16512 entries, 12655 to 19773\n",
      "Data columns (total 8 columns):\n",
      " #   Column              Non-Null Count  Dtype  \n",
      "---  ------              --------------  -----  \n",
      " 0   longitude           16512 non-null  float64\n",
      " 1   latitude            16512 non-null  float64\n",
      " 2   housing_median_age  16512 non-null  float64\n",
      " 3   total_rooms         16512 non-null  float64\n",
      " 4   total_bedrooms      16512 non-null  float64\n",
      " 5   population          16512 non-null  float64\n",
      " 6   households          16512 non-null  float64\n",
      " 7   median_income       16512 non-null  float64\n",
      "dtypes: float64(8)\n",
      "memory usage: 1.1 MB\n",
      "<class 'pandas.core.frame.DataFrame'>\n",
      "Int64Index: 16512 entries, 12655 to 19773\n",
      "Data columns (total 8 columns):\n",
      " #   Column              Non-Null Count  Dtype  \n",
      "---  ------              --------------  -----  \n",
      " 0   longitude           16512 non-null  float64\n",
      " 1   latitude            16512 non-null  float64\n",
      " 2   housing_median_age  16512 non-null  float64\n",
      " 3   total_rooms         16512 non-null  float64\n",
      " 4   total_bedrooms      16512 non-null  float64\n",
      " 5   population          16512 non-null  float64\n",
      " 6   households          16512 non-null  float64\n",
      " 7   median_income       16512 non-null  float64\n",
      "dtypes: float64(8)\n",
      "memory usage: 1.1 MB\n"
     ]
    }
   ],
   "source": [
    "# print(imputer.statistics_)\n",
    "# print(housing_buc.median().values)\n",
    "X = imputer.transform(housing_num)\n",
    "housing_tr = pd.DataFrame(X, columns=housing_num.columns, index=housing_num.index)\n",
    "housing_tr.info()\n",
    "housing_num.info()"
   ]
  },
  {
   "cell_type": "code",
   "execution_count": 25,
   "id": "bf25d9d6",
   "metadata": {},
   "outputs": [
    {
     "name": "stdout",
     "output_type": "stream",
     "text": [
      "[[0. 1. 0. 0. 0.]\n",
      " [0. 0. 0. 0. 1.]\n",
      " [0. 1. 0. 0. 0.]\n",
      " ...\n",
      " [1. 0. 0. 0. 0.]\n",
      " [1. 0. 0. 0. 0.]\n",
      " [0. 1. 0. 0. 0.]]\n"
     ]
    }
   ],
   "source": [
    "\n",
    "from sklearn.preprocessing import OneHotEncoder\n",
    "cat_encoder = OneHotEncoder()\n",
    "housing_cat_1hot = cat_encoder.fit_transform(housing_buc[[\"ocean_proximity\"]])\n",
    "print(housing_cat_1hot.toarray())\n"
   ]
  },
  {
   "cell_type": "code",
   "execution_count": 26,
   "id": "4bf3e82a",
   "metadata": {},
   "outputs": [],
   "source": [
    "\"\"\"Definition of Own Transformer\"\"\"\n",
    "from sklearn.base import BaseEstimator, TransformerMixin\n",
    "rooms_ix, bedrooms_ix, population_ix, households_ix = 3,4,5,6\n",
    "class CombinedAttributesAdder(BaseEstimator,TransformerMixin):\n",
    "    def __init__(self,add_bedrooms_per_room = True):\n",
    "        self.add_bedrooms_per_room = add_bedrooms_per_room\n",
    "    def fit(self,X,y=None):\n",
    "        return self\n",
    "    def transform(self,X,y=None):\n",
    "        rooms_per_household = X[:,rooms_ix]/X[:,households_ix]\n",
    "        population_per_household = X[:,population_ix]/X[:,households_ix]\n",
    "        if self.add_bedrooms_per_room:\n",
    "            bedrooms_per_room = X[:,bedrooms_ix]/X[:,rooms_ix]\n",
    "            return np.c_[X,rooms_per_household,population_per_household,bedrooms_per_room]\n",
    "        else:\n",
    "            return np.c_[X,rooms_per_household,population_per_household]\n",
    "attr_adder = CombinedAttributesAdder(add_bedrooms_per_room=False)\n",
    "housing_extra_attribs = attr_adder.transform(housing_buc.values)\n"
   ]
  },
  {
   "cell_type": "code",
   "execution_count": 27,
   "id": "0c78c8f6",
   "metadata": {},
   "outputs": [],
   "source": [
    "# Pipeline for automatic data transformation\n",
    "# Output is basically all we did before, but faster\n",
    "# Tranforms all numerical values into the Standard-Derivation form\n",
    "# Tranforms all categorical values into a OneHot-Matrix\n",
    "# type(housing_prepared) = numpy.ndarray !\n",
    "from sklearn.impute import SimpleImputer\n",
    "from sklearn.pipeline import Pipeline\n",
    "from sklearn.preprocessing import StandardScaler\n",
    "\n",
    "num_pipeline = Pipeline([\n",
    "    (\"imputer\", SimpleImputer(strategy=\"median\")),\n",
    "    (\"attribs_adder\", CombinedAttributesAdder()),\n",
    "    (\"std_scaler\",StandardScaler())    \n",
    "])\n",
    "housing_num_tr = num_pipeline.fit_transform(housing_num)\n",
    "\n",
    "from sklearn.compose import ColumnTransformer\n",
    "\n",
    "num_attribs = list(housing_num)\n",
    "cat_attribs = [\"ocean_proximity\"]\n",
    "\n",
    "full_pipeline = ColumnTransformer([\n",
    "    (\"num\",num_pipeline,num_attribs),\n",
    "    (\"cat\", OneHotEncoder(),cat_attribs)\n",
    "])\n",
    "housing_prepared = full_pipeline.fit_transform(housing_buc)"
   ]
  },
  {
   "cell_type": "code",
   "execution_count": 28,
   "id": "5fda2eae",
   "metadata": {},
   "outputs": [
    {
     "name": "stdout",
     "output_type": "stream",
     "text": [
      "111095.06635291966\n"
     ]
    }
   ],
   "source": [
    "from sklearn.metrics import mean_squared_error as mse\n",
    "from sklearn.svm import SVR \n",
    "\n",
    "svm = SVR(kernel=\"linear\",\n",
    "          C=1,\n",
    "          gamma=1\n",
    "          )\n",
    "\n",
    "svm.fit(housing_prepared,housing_labels)\n",
    "y_pred = svm.predict(housing_prepared)\n",
    "print(np.sqrt(mse(svm.predict(housing_prepared),housing_labels)))"
   ]
  },
  {
   "cell_type": "code",
   "execution_count": 34,
   "id": "3a8256e4",
   "metadata": {},
   "outputs": [
    {
     "name": "stdout",
     "output_type": "stream",
     "text": [
      "Best Par:  {'C': 21.743361352753134, 'gamma': 3.010121430917521, 'kernel': 'linear'}\n",
      "Best Est:  SVR(C=21.743361352753134, gamma=3.010121430917521, kernel='linear')\n"
     ]
    }
   ],
   "source": [
    "\"\"\"Systematic Search For Hyperparameters: Random Search\"\"\"\n",
    "from sklearn.model_selection import RandomizedSearchCV\n",
    "from scipy.stats import expon, reciprocal\n",
    "\n",
    "pd = {\n",
    "        'kernel': ['linear'],\n",
    "        'C': reciprocal(20, 25),\n",
    "        'gamma': expon(scale=1.0),\n",
    "    }\n",
    "\n",
    "r_search = RandomizedSearchCV(\n",
    "                 svm,\n",
    "                 param_distributions=pd,\n",
    "                 cv=2,\n",
    "                 scoring=\"neg_mean_squared_error\",\n",
    "                 n_iter=1,\n",
    "                 return_train_score=True,\n",
    "                 random_state=42\n",
    ")\n",
    "\n",
    "r_search.fit(housing_prepared,housing_labels) # Takes a while\n",
    "best_parameters = r_search.best_params_\n",
    "print(\"Best Par: \", best_parameters)\n",
    "best_estimator = r_search.best_estimator_\n",
    "print(\"Best Est: \",best_estimator)"
   ]
  },
  {
   "cell_type": "code",
   "execution_count": null,
   "id": "02ce31e2",
   "metadata": {},
   "outputs": [
    {
     "name": "stdout",
     "output_type": "stream",
     "text": [
      "[110518, 112957, 106999, 113591, 107783, 116064, 113279, 111837, 113169, 111945]\n"
     ]
    }
   ],
   "source": [
    "\"\"\"Cross Validation\"\"\"\n",
    "# Scikit cross_val_score separates our (training) data into chunks for in-between fit check\n",
    "from sklearn.model_selection import cross_val_score as cvs\n",
    "scores = cvs(svm,housing_prepared,housing_labels,scoring=\"neg_mean_squared_error\", cv=10) \n",
    "print(list(int(round(num,0)) for num in np.sqrt(-scores)))"
   ]
  },
  {
   "cell_type": "code",
   "execution_count": null,
   "id": "56503f80",
   "metadata": {},
   "outputs": [
    {
     "name": "stdout",
     "output_type": "stream",
     "text": [
      "Model used:  SVR(C=1, gamma=1, kernel='linear', max_iter=15)\n",
      "RMSE : 125135.32464114868\n"
     ]
    }
   ],
   "source": [
    "\"\"\"Evaluation on Test Data\"\"\"\n",
    "final_model = grid_search.best_estimator_\n",
    "print(\"Model used: \", final_model)\n",
    "\n",
    "X_test = strat_test_set.drop(\"median_house_value\",axis=1)\n",
    "y_test = strat_test_set[\"median_house_value\"].copy()\n",
    "\n",
    "X_test_prepared = full_pipeline.transform(X_test)\n",
    "\n",
    "y_pred = pd.Series(final_model.predict(X_test_prepared))\n",
    "\n",
    "final_rmse = np.sqrt(mse(y_test, y_pred))\n",
    "print(\"RMSE :\",final_rmse)\n"
   ]
  },
  {
   "cell_type": "code",
   "execution_count": null,
   "id": "89ecdd7d",
   "metadata": {},
   "outputs": [
    {
     "data": {
      "text/plain": [
       "'which means that there is a 95% probability that the true mean squared error falls within the calculated confidence interval.'"
      ]
     },
     "execution_count": 93,
     "metadata": {},
     "output_type": "execute_result"
    }
   ],
   "source": [
    "from scipy import stats\n",
    "confidence = 0.95\n",
    "y_pred1 = y_pred.reset_index(drop=True)\n",
    "y_test1 = y_test.reset_index(drop=True)\n",
    "squared_errors = (y_pred1 - y_test1) ** 2\n",
    "np.sqrt(stats.t.interval(confidence,len(squared_errors)-1,\n",
    "                         loc=squared_errors.mean(),\n",
    "                         scale=stats.sem(squared_errors)))\n",
    "# Returns: array([46255.5950543 , 50176.43982874])\n",
    "\"The confidence level specified in the function is 0.95,\"\n",
    "\"which means that there is a 95% probability that the true mean squared error falls within the calculated confidence interval.\"\n",
    "\n"
   ]
  }
 ],
 "metadata": {
  "kernelspec": {
   "display_name": "Python 3 (ipykernel)",
   "language": "python",
   "name": "python3"
  },
  "language_info": {
   "codemirror_mode": {
    "name": "ipython",
    "version": 3
   },
   "file_extension": ".py",
   "mimetype": "text/x-python",
   "name": "python",
   "nbconvert_exporter": "python",
   "pygments_lexer": "ipython3",
   "version": "3.10.9"
  }
 },
 "nbformat": 4,
 "nbformat_minor": 5
}
