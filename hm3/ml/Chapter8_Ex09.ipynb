{
 "cells": [
  {
   "cell_type": "code",
   "execution_count": null,
   "metadata": {},
   "outputs": [],
   "source": [
    "\"\"\"\n",
    "Task No 8\n",
    "\n",
    "a)  Set Up and Execute a RFR for the MNIST Dataset (Test Ratio 1/7)\n",
    "b)  PCA with 0.95 variance threshold, run RFR again\n",
    "c)  Compare runtimes and performance of a and b\n",
    "\n",
    "\"\"\""
   ]
  },
  {
   "cell_type": "code",
   "execution_count": 15,
   "metadata": {},
   "outputs": [
    {
     "name": "stdout",
     "output_type": "stream",
     "text": [
      "Elapsed time for fitting the standard train data: 0 minutes 37 seconds\n",
      "Elapsed time for predicting the standard test data: 0 minutes 0 seconds\n",
      "Accuracy for standard dataset: 0.9701 %\n"
     ]
    }
   ],
   "source": [
    "\"\"\"a\"\"\"\n",
    "from joblib import load\n",
    "import numpy as np\n",
    "from sklearn.ensemble import RandomForestClassifier\n",
    "from sklearn.metrics import accuracy_score\n",
    "import time\n",
    "\n",
    "def ms_time(end_time,start_time):\n",
    "    minutes = int((end_time - start_time) // 60)\n",
    "    seconds = int((end_time - start_time) % 60)\n",
    "    return minutes, seconds\n",
    "\n",
    "mnist = load(\"C:/Users/MaxB2/Documents/Machine_Is_Learning/mnist_dataset_784_v1.joblib\")\n",
    "\n",
    "X,y = mnist[\"data\"],mnist[\"target\"]\n",
    "y = y.astype(np.uint8)\n",
    "X_train, X_test, y_train, y_test = X[:60000],X[60000:],y[:60000],y[60000:] \n",
    "\n",
    "rfr = RandomForestClassifier()\n",
    "start_time1 = time.time()\n",
    "rfr.fit(X_train,y_train)\n",
    "end_time1 = time.time()\n",
    "print(f\"Elapsed time for fitting the standard train data: {ms_time(end_time1,start_time1)[0]} minutes {ms_time(end_time1,start_time1)[1]} seconds\")\n",
    "\n",
    "#performance\n",
    "start_time2 = time.time()\n",
    "y_predict_std = rfr.predict(X_test)\n",
    "end_time2 = time.time()\n",
    "acc_y_etc_std = accuracy_score(y_test, y_predict_std)\n",
    "print(f\"Elapsed time for predicting the standard test data: {ms_time(end_time1,start_time2)[0]} minutes {ms_time(end_time1,start_time2)[1]} seconds\")\n",
    "print(f\"Accuracy for standard dataset: {round(acc_y_etc_std,5)} %\")"
   ]
  },
  {
   "cell_type": "code",
   "execution_count": 25,
   "metadata": {},
   "outputs": [],
   "source": [
    "from sklearn.decomposition import PCA\n",
    "pca = PCA()\n",
    "pca.fit(X_train)\n",
    "\n",
    "cumsum = np.cumsum(pca.explained_variance_ratio_)\n",
    "d_necessary = np.argmax(cumsum>=0.95)+1 #154\n",
    "\n",
    "pca_95 = PCA(n_components=d_necessary,svd_solver=\"randomized\") # equal to PCA(n_components=0.95), randomized bc d << n\n",
    "X_train_reduced = pca_95.fit_transform(X_train) # normal PCA >10min, randomized --> 6s wtf\n",
    "X_test_reduced = pca_95.transform(X_test)"
   ]
  },
  {
   "cell_type": "code",
   "execution_count": null,
   "metadata": {},
   "outputs": [],
   "source": [
    "rfr2 = RandomForestClassifier()\n",
    "rfr2.fit(X_train_reduced,y_train)\n",
    "y_pred_reduced = rfr2.predict(X_test_reduced)\n",
    "acc_y_rfr_red = accuracy_score(y_test, y_predict_std)"
   ]
  },
  {
   "cell_type": "code",
   "execution_count": 29,
   "metadata": {},
   "outputs": [
    {
     "name": "stdout",
     "output_type": "stream",
     "text": [
      "0.9255\n"
     ]
    },
    {
     "name": "stderr",
     "output_type": "stream",
     "text": [
      "c:\\Users\\MaxB2\\anaconda3\\lib\\site-packages\\sklearn\\linear_model\\_logistic.py:458: ConvergenceWarning: lbfgs failed to converge (status=1):\n",
      "STOP: TOTAL NO. of ITERATIONS REACHED LIMIT.\n",
      "\n",
      "Increase the number of iterations (max_iter) or scale the data as shown in:\n",
      "    https://scikit-learn.org/stable/modules/preprocessing.html\n",
      "Please also refer to the documentation for alternative solver options:\n",
      "    https://scikit-learn.org/stable/modules/linear_model.html#logistic-regression\n",
      "  n_iter_i = _check_optimize_result(\n"
     ]
    }
   ],
   "source": [
    "from sklearn.linear_model import LogisticRegression\n",
    "\n",
    "log_clf = LogisticRegression(multi_class=\"multinomial\", solver=\"lbfgs\",random_state=42)\n",
    "\n",
    "log_clf.fit(X_train,y_train)\n",
    "y_pred_log_std = log_clf.predict(X_test)\n",
    "acc_y_log_std = accuracy_score(y_test, y_pred_log_std)\n",
    "print(acc_y_log_std)"
   ]
  },
  {
   "cell_type": "code",
   "execution_count": 30,
   "metadata": {},
   "outputs": [
    {
     "name": "stdout",
     "output_type": "stream",
     "text": [
      "0.921\n"
     ]
    },
    {
     "name": "stderr",
     "output_type": "stream",
     "text": [
      "c:\\Users\\MaxB2\\anaconda3\\lib\\site-packages\\sklearn\\linear_model\\_logistic.py:458: ConvergenceWarning: lbfgs failed to converge (status=1):\n",
      "STOP: TOTAL NO. of ITERATIONS REACHED LIMIT.\n",
      "\n",
      "Increase the number of iterations (max_iter) or scale the data as shown in:\n",
      "    https://scikit-learn.org/stable/modules/preprocessing.html\n",
      "Please also refer to the documentation for alternative solver options:\n",
      "    https://scikit-learn.org/stable/modules/linear_model.html#logistic-regression\n",
      "  n_iter_i = _check_optimize_result(\n"
     ]
    }
   ],
   "source": [
    "log_clf2 = LogisticRegression(multi_class=\"multinomial\", solver=\"lbfgs\",random_state=42)\n",
    "\n",
    "log_clf2.fit(X_train_reduced,y_train)\n",
    "y_pred_log_red = log_clf2.predict(X_test_reduced)\n",
    "acc_y_log_red = accuracy_score(y_test, y_pred_log_red)\n",
    "print(acc_y_log_red)"
   ]
  }
 ],
 "metadata": {
  "kernelspec": {
   "display_name": "base",
   "language": "python",
   "name": "python3"
  },
  "language_info": {
   "codemirror_mode": {
    "name": "ipython",
    "version": 3
   },
   "file_extension": ".py",
   "mimetype": "text/x-python",
   "name": "python",
   "nbconvert_exporter": "python",
   "pygments_lexer": "ipython3",
   "version": "3.10.9"
  },
  "orig_nbformat": 4
 },
 "nbformat": 4,
 "nbformat_minor": 2
}
