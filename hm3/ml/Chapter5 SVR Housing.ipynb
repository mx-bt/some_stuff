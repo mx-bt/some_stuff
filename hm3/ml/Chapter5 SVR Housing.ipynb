{
 "cells": [
  {
   "cell_type": "code",
   "execution_count": 1,
   "metadata": {},
   "outputs": [],
   "source": [
    "import pandas as pd\n",
    "import os\n",
    "\n",
    "\n",
    "HOUSING_PATH = os.path.join(\"datasets\",\"housing\")\n",
    "def load_housing_data(housing_path=HOUSING_PATH):\n",
    "    csv_path = os.path.join(housing_path,\"housing.csv\")\n",
    "    return pd.read_csv(csv_path)\n",
    "housing = load_housing_data()\n",
    "\n"
   ]
  },
  {
   "cell_type": "code",
   "execution_count": null,
   "metadata": {},
   "outputs": [],
   "source": [
    "housing = housing.reset_index(drop=True)\n",
    "print(housing.head(10))\n",
    "\n",
    "import numpy as np\n",
    "housing[\"income_cat\"] = pd.cut(housing[\"median_income\"], bins=[0.,1.5,3.0,4.5,6., np.inf], labels=[\"Crackrat\",\"Homeless\",\"Peasant\",\"Salaryslave\",\"DevelopsAIinforesthideout\"])\n",
    "housing[\"income_cat\"].hist()\n",
    "\n",
    "from sklearn.model_selection import StratifiedShuffleSplit\n",
    "SS_split = StratifiedShuffleSplit(n_splits=1, test_size=0.2, random_state=42)\n",
    "for train_index, test_index in SS_split.split(housing,housing[\"income_cat\"]):\n",
    "    strat_train_set = housing.loc[train_index]\n",
    "    strat_test_set = housing.loc[test_index]\n",
    "\n",
    "total_value_counts = housing[\"income_cat\"].value_counts() / len(housing)\n",
    "strat_test_value_counts = strat_test_set[\"income_cat\"].value_counts()/ len(strat_test_set)\n",
    "\n",
    "# Convert the Series object to a DataFrame with appropriate column names\n",
    "df_comparison = pd.DataFrame({\n",
    "    \"Income Category\": total_value_counts.index,\n",
    "    \"Normal Proportion\": total_value_counts.values,\n",
    "    \"Strat Test Proportion\": strat_test_value_counts.values\n",
    "})\n",
    "print(df_comparison)"
   ]
  }
 ],
 "metadata": {
  "kernelspec": {
   "display_name": "base",
   "language": "python",
   "name": "python3"
  },
  "language_info": {
   "codemirror_mode": {
    "name": "ipython",
    "version": 3
   },
   "file_extension": ".py",
   "mimetype": "text/x-python",
   "name": "python",
   "nbconvert_exporter": "python",
   "pygments_lexer": "ipython3",
   "version": "3.10.9"
  },
  "orig_nbformat": 4
 },
 "nbformat": 4,
 "nbformat_minor": 2
}
