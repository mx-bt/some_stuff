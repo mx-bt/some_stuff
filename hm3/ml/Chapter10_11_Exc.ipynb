{
 "cells": [
  {
   "cell_type": "code",
   "execution_count": null,
   "metadata": {},
   "outputs": [],
   "source": [
    "\"\"\"\"\"\""
   ]
  },
  {
   "cell_type": "code",
   "execution_count": 56,
   "metadata": {},
   "outputs": [
    {
     "data": {
      "text/plain": [
       "\"Exercises Chapter 10 - Introduction to Neural Networks\\n1. See online tool\\n2. See PP\\n3. Advantages of logistic regression over classical perceptron. How can we change the perceptron to be equal to logreg?\\n    A linear regression is able to model any linear correlation with quite ease while a classical perceptron is only able to make\\n    decisions based on a certain threshold, due to the nature  of his activation function. If we replace the activation function with something\\n    like a linear function instead of hard voting, then we could create an equal counterpart to the linear regression.\\n\\n4. Why is the logistic activation key for the first MLP.\\n    The logistic function is smooth and differentiatable at every point. Instead of threshold logic units it can be used to estimate a probability\\n    instead of just three different values which allows the ANN to make more precise estimations, independend from the actual number of perceptrons.\\n    Further it can can be used for backpropagation algorithms by laying the base for gradient descent mechanisms. \\n\\n5. See paint\\n\\n6. MLP with input layer of 10 perceptrons, hidden layer of 50 perceptrons, output layer 3 perceptrons. All phi(z) are ReLU.\\n    Suppose m x n matrices (rows x columns)\\n    a) input matrix: m x 10 \\n    b) hidden layer weight vector: 10 x 50, bias vector 50\\n    c) the output layer doesn't have a bias vector nor weighting vecotrs\\n    d) output matrix: m x 3\\n    e) see paper\\n\\n7. Amount of output neurons \\n    a) for ham-spam classification of emails\\n    Two, because it's a binary classification, a sigmoid function as output should be sufficient\\n    b) MNIST\\n    Ten, for each possible digit one neuron. same activation function\\n    c) Housing prizes\\n    One neurons with a ReLU or softmax activation\\n\\n8. Back propagation\\n    Back propation is an algorithm that will adapt the neural network to optimize it's prediction accuracy. At first, the weight vectors of \\n    each layer are assigned randomly and predictions are accordingly random aswell. After the first batch, the predictions are evaluated with \\n    labelled data. Afterwards a certain cost function is calculated that will decrease if the predictions are correct. To achieve that, the \\n    algorithm will change the value of all weight vectors to minimize the cost function a little bit in the direction of the next best decreasing\\n    value of the first derivate of the function (gradient descent). Then, a new batch of data is inserted and the algorithm continues with the\\n    described operation for as much iterations needed to reach the minimum of the cost function.\\n\\n9. Hyperparameters for MLPs\\n    Activation function\\n    Input layer size\\n    Number of hidden layers\\n    hidden layer activation function\\n    Perceptron per hidden layer\\n    Output layer size\\n    Output layer activation function\\n    Bias yes or no\\n    learning rate\\n    l1 or l2 regularization\\n    back propagation algorithm\\n    \\n    If MLPs are overfitting then we could increase the amount of training data, modify the bias, reduce the amount of layers and/or perceptrons,\\n    increase the strength of regularization or choose another activation function. Augmenting the training data is also possible.\\n\\n\""
      ]
     },
     "execution_count": 56,
     "metadata": {},
     "output_type": "execute_result"
    }
   ],
   "source": [
    "\"\"\"Exercises Chapter 10 - Introduction to Neural Networks\n",
    "1. See online tool\n",
    "2. See PP\n",
    "3. Advantages of logistic regression over classical perceptron. How can we change the perceptron to be equal to logreg?\n",
    "    A linear regression is able to model any linear correlation with quite ease while a classical perceptron is only able to make\n",
    "    decisions based on a certain threshold, due to the nature  of his activation function. If we replace the activation function with something\n",
    "    like a linear function instead of hard voting, then we could create an equal counterpart to the linear regression.\n",
    "\n",
    "4. Why is the logistic activation key for the first MLP.\n",
    "    The logistic function is smooth and differentiatable at every point. Instead of threshold logic units it can be used to estimate a probability\n",
    "    instead of just three different values which allows the ANN to make more precise estimations, independend from the actual number of perceptrons.\n",
    "    Further it can can be used for backpropagation algorithms by laying the base for gradient descent mechanisms. \n",
    "\n",
    "5. See paint\n",
    "\n",
    "6. MLP with input layer of 10 perceptrons, hidden layer of 50 perceptrons, output layer 3 perceptrons. All phi(z) are ReLU.\n",
    "    Suppose m x n matrices (rows x columns)\n",
    "    a) input matrix: m x 10 \n",
    "    b) hidden layer weight vector: 10 x 50, bias vector 50\n",
    "    c) the output layer doesn't have a bias vector nor weighting vecotrs\n",
    "    d) output matrix: m x 3\n",
    "    e) see paper\n",
    "\n",
    "7. Amount of output neurons \n",
    "    a) for ham-spam classification of emails\n",
    "    Two, because it's a binary classification, a sigmoid function as output should be sufficient\n",
    "    b) MNIST\n",
    "    Ten, for each possible digit one neuron. same activation function\n",
    "    c) Housing prizes\n",
    "    One neurons with a ReLU or softmax activation\n",
    "\n",
    "8. Back propagation\n",
    "    Back propation is an algorithm that will adapt the neural network to optimize it's prediction accuracy. At first, the weight vectors of \n",
    "    each layer are assigned randomly and predictions are accordingly random aswell. After the first batch, the predictions are evaluated with \n",
    "    labelled data. Afterwards a certain cost function is calculated that will decrease if the predictions are correct. To achieve that, the \n",
    "    algorithm will change the value of all weight vectors to minimize the cost function a little bit in the direction of the next best decreasing\n",
    "    value of the first derivate of the function (gradient descent). Then, a new batch of data is inserted and the algorithm continues with the\n",
    "    described operation for as much iterations needed to reach the minimum of the cost function.\n",
    "\n",
    "9. Hyperparameters for MLPs\n",
    "    Activation function\n",
    "    Input layer size\n",
    "    Number of hidden layers\n",
    "    hidden layer activation function\n",
    "    Perceptron per hidden layer\n",
    "    Output layer size\n",
    "    Output layer activation function\n",
    "    Bias yes or no\n",
    "    learning rate\n",
    "    l1 or l2 regularization\n",
    "    back propagation algorithm\n",
    "    \n",
    "    If MLPs are overfitting then we could increase the amount of training data, modify the bias, reduce the amount of layers and/or perceptrons,\n",
    "    increase the strength of regularization or choose another activation function. Augmenting the training data is also possible.\n",
    "\n",
    "\"\"\""
   ]
  },
  {
   "cell_type": "code",
   "execution_count": 2,
   "metadata": {},
   "outputs": [
    {
     "name": "stdout",
     "output_type": "stream",
     "text": [
      "Epoch 1/500\n",
      "1563/1563 [==============================] - 3s 2ms/step - loss: 0.2637 - accuracy: 0.9189 - val_loss: 0.2759 - val_accuracy: 0.9142\n",
      "Epoch 2/500\n",
      "1563/1563 [==============================] - 2s 2ms/step - loss: 0.1059 - accuracy: 0.9670 - val_loss: 0.1153 - val_accuracy: 0.9645\n",
      "Epoch 3/500\n",
      "1563/1563 [==============================] - 3s 2ms/step - loss: 0.0755 - accuracy: 0.9763 - val_loss: 0.0893 - val_accuracy: 0.9722\n",
      "Epoch 4/500\n",
      "1563/1563 [==============================] - 3s 2ms/step - loss: 0.0565 - accuracy: 0.9818 - val_loss: 0.0859 - val_accuracy: 0.9715\n",
      "Epoch 5/500\n",
      "1563/1563 [==============================] - 3s 2ms/step - loss: 0.0443 - accuracy: 0.9857 - val_loss: 0.1003 - val_accuracy: 0.9733\n",
      "Epoch 6/500\n",
      "1563/1563 [==============================] - 3s 2ms/step - loss: 0.0360 - accuracy: 0.9886 - val_loss: 0.0853 - val_accuracy: 0.9773\n",
      "Epoch 7/500\n",
      "1563/1563 [==============================] - 3s 2ms/step - loss: 0.0284 - accuracy: 0.9904 - val_loss: 0.0959 - val_accuracy: 0.9762\n",
      "Epoch 8/500\n",
      "1563/1563 [==============================] - 3s 2ms/step - loss: 0.0268 - accuracy: 0.9911 - val_loss: 0.0952 - val_accuracy: 0.9752\n",
      "Epoch 9/500\n",
      "1563/1563 [==============================] - 3s 2ms/step - loss: 0.0275 - accuracy: 0.9915 - val_loss: 0.1030 - val_accuracy: 0.9735\n",
      "Epoch 10/500\n",
      "1563/1563 [==============================] - 3s 2ms/step - loss: 0.0251 - accuracy: 0.9917 - val_loss: 0.1135 - val_accuracy: 0.9763\n",
      "Epoch 11/500\n",
      "1563/1563 [==============================] - 3s 2ms/step - loss: 0.0192 - accuracy: 0.9939 - val_loss: 0.1515 - val_accuracy: 0.9669\n",
      "Epoch 12/500\n",
      "1563/1563 [==============================] - 3s 2ms/step - loss: 0.0207 - accuracy: 0.9933 - val_loss: 0.1015 - val_accuracy: 0.9791\n",
      "Epoch 13/500\n",
      "1563/1563 [==============================] - 3s 2ms/step - loss: 0.0227 - accuracy: 0.9929 - val_loss: 0.1043 - val_accuracy: 0.9785\n",
      "Epoch 14/500\n",
      "1563/1563 [==============================] - 3s 2ms/step - loss: 0.0177 - accuracy: 0.9941 - val_loss: 0.1190 - val_accuracy: 0.9743\n",
      "Epoch 15/500\n",
      "1563/1563 [==============================] - 4s 2ms/step - loss: 0.0163 - accuracy: 0.9951 - val_loss: 0.0978 - val_accuracy: 0.9796\n",
      "Epoch 16/500\n",
      "1563/1563 [==============================] - 3s 2ms/step - loss: 0.0125 - accuracy: 0.9960 - val_loss: 0.1051 - val_accuracy: 0.9801\n",
      "Epoch 17/500\n",
      "1563/1563 [==============================] - 3s 2ms/step - loss: 0.0183 - accuracy: 0.9947 - val_loss: 0.1116 - val_accuracy: 0.9792\n",
      "313/313 [==============================] - 1s 1ms/step - loss: 0.0968 - accuracy: 0.9758\n",
      "Test Accuracy: 0.9757999777793884\n"
     ]
    },
    {
     "data": {
      "image/png": "[encoded data removed]",
      "text/plain": [
       "<Figure size 800x500 with 1 Axes>"
      ]
     },
     "metadata": {},
     "output_type": "display_data"
    }
   ],
   "source": [
    "\"\"\"Exercise No 10: Neural Network on MNIST\"\"\"\n",
    "\"\"\"Part 1: Data Preprocessing\"\"\"\n",
    "from sklearn.model_selection import StratifiedShuffleSplit\n",
    "from joblib import load\n",
    "import numpy as np\n",
    "mnist = load(\"C:/Users/MaxB2/Documents/Machine_Is_Learning/mnist_dataset_784_v1.joblib\")\n",
    "X,y = mnist[\"data\"],mnist[\"target\"]\n",
    "X = np.array(X)\n",
    "y = np.array(y.astype(np.uint8))\n",
    "\n",
    "sss1 = StratifiedShuffleSplit(n_splits=10, test_size=(1/7))\n",
    "for tr_i1, tt_i1 in sss1.split(X, y):\n",
    "    X_trA = X[tr_i1] / 255.\n",
    "    y_trA = y[tr_i1]\n",
    "    X_tt = X[tt_i1] / 255.\n",
    "    y_tt = y[tt_i1]\n",
    "\n",
    "\n",
    "sss2 = StratifiedShuffleSplit(n_splits=10, test_size=(1/6))\n",
    "for tr_i2, vl_i2 in sss2.split(X_trA,y_trA):\n",
    "    X_tr = X_trA[tr_i2]\n",
    "    y_tr = y_trA[tr_i2]\n",
    "    X_v = X_trA[vl_i2]\n",
    "    y_v = y_trA[vl_i2]\n",
    "\n",
    "import pandas as pd\n",
    "df_comparison = pd.DataFrame({\n",
    "    \"Normal Data Proportion\": (pd.Series(y).value_counts() / len(y)).values,\n",
    "    \"Validation Set Proportion\": (pd.Series(y_v).value_counts()/ len(X_v)).values,\n",
    "    \"Train Set Proportion\":(pd.Series(y_tr).value_counts()/ len(X_tr)).values,\n",
    "    \"Test Set Proportion\":(pd.Series(y_tt).value_counts()/ len(X_tt)).values\n",
    "})\n",
    "df_comparison    \n",
    "\n",
    "from tensorflow import keras as kr\n",
    "from keras.optimizers import SGD\n",
    "import os\n",
    "import matplotlib.pyplot as plt\n",
    "\"\"\"Part 2: Model Setup\"\"\"\n",
    "\n",
    "# Architecture\n",
    "nnm = kr.models.Sequential([\n",
    "    kr.layers.InputLayer(input_shape=(np.shape(X_tr)[1],)),\n",
    "    kr.layers.Dense(300,activation=\"relu\"),\n",
    "    kr.layers.Dense(100,activation=\"relu\"),\n",
    "    kr.layers.Dense(10,activation=\"softmax\"),\n",
    "])\n",
    "\n",
    "# Optimizer\n",
    "sgd_opt = kr.optimizers.SGD(learning_rate=0.42623451352119446)\n",
    "nnm.compile(loss=\"sparse_categorical_crossentropy\",optimizer=sgd_opt,metrics=[\"accuracy\"])\n",
    "\n",
    "\"\"\"Part 3: Model Fitting and evaluation\"\"\"\n",
    "\n",
    "root_logdir = os.path.join(os.curdir,\"my_logs\")\n",
    "def get_run_logdir():\n",
    "    import time\n",
    "    run_id = time.strftime(\"run_%Y_%m_%d-%H_%M_%S\")\n",
    "    return os.path.join(root_logdir,run_id)\n",
    "run_logdir = get_run_logdir()\n",
    "c_cb = kr.callbacks.ModelCheckpoint(\"./model_logs/best_mnist_model.h5\",monitor= \"val_loss\",save_best_only=True)\n",
    "es_cb = kr.callbacks.EarlyStopping(monitor=\"val_loss\",patience=11,restore_best_weights=True)\n",
    "tb_cb = kr.callbacks.TensorBoard(run_logdir)\n",
    "\n",
    "\n",
    "\n",
    "h1 = nnm.fit(X_tr,y_tr,epochs=500,validation_data=(X_v,y_v),callbacks=[c_cb,es_cb,tb_cb])\n",
    "import pandas as pd\n",
    "import matplotlib.pyplot as plt\n",
    "pd.DataFrame(h1.history).plot(figsize=(8,5))\n",
    "min_index, min_value = min(enumerate(h1.history[\"val_loss\"]), key=lambda x: x[1])\n",
    "best_nmm = kr.models.load_model(\"./model_logs/best_mnist_model.h5\")\n",
    "loss, accuracy = best_nmm.evaluate(X_tt, y_tt)\n",
    "print(\"Test Accuracy:\" ,accuracy)\n",
    "plt.scatter(min_index, min_value, marker='^', color='red',s=100,zorder=10)\n",
    "plt.grid(True)\n",
    "plt.gca().set_ylim(0,1)\n",
    "plt.show()\n"
   ]
  },
  {
   "cell_type": "code",
   "execution_count": 1,
   "metadata": {},
   "outputs": [
    {
     "name": "stderr",
     "output_type": "stream",
     "text": [
      "UsageError: Line magic function `%tensorboard` not found.\n"
     ]
    }
   ],
   "source": [
    "%tensorboard --logdir=./my_mnist_logs --port=6006"
   ]
  }
 ],
 "metadata": {
  "kernelspec": {
   "display_name": "base",
   "language": "python",
   "name": "python3"
  },
  "language_info": {
   "codemirror_mode": {
    "name": "ipython",
    "version": 3
   },
   "file_extension": ".py",
   "mimetype": "text/x-python",
   "name": "python",
   "nbconvert_exporter": "python",
   "pygments_lexer": "ipython3",
   "version": "3.10.9"
  },
  "orig_nbformat": 4
 },
 "nbformat": 4,
 "nbformat_minor": 2
}
