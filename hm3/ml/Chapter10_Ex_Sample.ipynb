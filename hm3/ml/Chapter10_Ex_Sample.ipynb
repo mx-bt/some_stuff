{
 "cells": [
  {
   "cell_type": "code",
   "execution_count": 9,
   "metadata": {},
   "outputs": [],
   "source": [
    "from sklearn.model_selection import StratifiedShuffleSplit\n",
    "from joblib import load\n",
    "import numpy as np\n",
    "\n",
    "mnist = load(\"C:/Users/MaxB2/Documents/Machine_Is_Learning/mnist_dataset_784_v1.joblib\")\n",
    "X,y = mnist[\"data\"],mnist[\"target\"]\n",
    "X = np.array(X)\n",
    "y = np.array(y.astype(np.uint8))"
   ]
  },
  {
   "cell_type": "code",
   "execution_count": 3,
   "metadata": {},
   "outputs": [
    {
     "data": {
      "text/plain": [
       "(70000, 784)"
      ]
     },
     "execution_count": 3,
     "metadata": {},
     "output_type": "execute_result"
    }
   ],
   "source": [
    "np.shape(X)"
   ]
  },
  {
   "cell_type": "code",
   "execution_count": 10,
   "metadata": {},
   "outputs": [],
   "source": [
    "X_trainf, X_test, y_trainf, y_test = X[:50000] / 255., X[50000:] / 255., y[:50000],y[50000:]\n",
    "X_train, y_train, X_valid, y_valid = X_trainf[5000:], y_trainf[5000:], X_trainf[:5000], y_trainf[:5000]"
   ]
  },
  {
   "cell_type": "code",
   "execution_count": 15,
   "metadata": {},
   "outputs": [],
   "source": [
    "from tensorflow import keras\n",
    "import tensorflow as tf\n",
    "K = keras.backend\n",
    "\n",
    "class ExponentialLearningRate(keras.callbacks.Callback):\n",
    "    def __init__(self, factor):\n",
    "        self.factor = factor\n",
    "        self.rates = []\n",
    "        self.losses = []\n",
    "    def on_batch_end(self, batch, logs):\n",
    "        self.rates.append(K.get_value(self.model.optimizer.learning_rate))\n",
    "        self.losses.append(logs[\"loss\"])\n",
    "        K.set_value(self.model.optimizer.learning_rate, self.model.optimizer.learning_rate * self.factor)\n",
    "\n",
    "keras.backend.clear_session()\n",
    "np.random.seed(42)\n",
    "tf.random.set_seed(42)\n",
    "\n",
    "model = keras.models.Sequential([\n",
    "    keras.layers.Flatten(input_shape=(784,)),\n",
    "    keras.layers.Dense(300, activation=\"relu\"),\n",
    "    keras.layers.Dense(100, activation=\"relu\"),\n",
    "    keras.layers.Dense(10, activation=\"softmax\")\n",
    "])\n",
    "\n",
    "model.compile(loss=\"sparse_categorical_crossentropy\",\n",
    "              optimizer=keras.optimizers.SGD(learning_rate=1e-3),\n",
    "              metrics=[\"accuracy\"])\n",
    "expon_lr = ExponentialLearningRate(factor=1.005)"
   ]
  },
  {
   "cell_type": "code",
   "execution_count": 16,
   "metadata": {},
   "outputs": [
    {
     "name": "stdout",
     "output_type": "stream",
     "text": [
      "1407/1407 [==============================] - 3s 2ms/step - loss: 1.4989 - accuracy: 0.6942 - val_loss: 3711.1211 - val_accuracy: 0.1100\n"
     ]
    }
   ],
   "source": [
    "history = model.fit(X_train, y_train, epochs=1,\n",
    "                    validation_data=(X_valid, y_valid),\n",
    "                    callbacks=[expon_lr])"
   ]
  },
  {
   "cell_type": "code",
   "execution_count": 17,
   "metadata": {},
   "outputs": [
    {
     "data": {
      "text/plain": [
       "Text(0, 0.5, 'Loss')"
      ]
     },
     "execution_count": 17,
     "metadata": {},
     "output_type": "execute_result"
    },
    {
     "data": {
      "image/png": "[encoded data removed]",
      "text/plain": [
       "<Figure size 640x480 with 1 Axes>"
      ]
     },
     "metadata": {},
     "output_type": "display_data"
    }
   ],
   "source": [
    "import matplotlib.pyplot as plt\n",
    "plt.plot(expon_lr.rates, expon_lr.losses)\n",
    "plt.gca().set_xscale('log')\n",
    "plt.hlines(min(expon_lr.losses), min(expon_lr.rates), max(expon_lr.rates))\n",
    "plt.axis([min(expon_lr.rates), max(expon_lr.rates), 0, expon_lr.losses[0]])\n",
    "plt.grid()\n",
    "plt.xlabel(\"Learning rate\")\n",
    "plt.ylabel(\"Loss\")\n"
   ]
  },
  {
   "cell_type": "code",
   "execution_count": 18,
   "metadata": {},
   "outputs": [
    {
     "data": {
      "text/plain": [
       "0.42623451352119446"
      ]
     },
     "execution_count": 18,
     "metadata": {},
     "output_type": "execute_result"
    }
   ],
   "source": [
    "b_l_r = expon_lr.rates[expon_lr.losses.index(min(expon_lr.losses))] / 2\n",
    "b_l_r"
   ]
  },
  {
   "cell_type": "code",
   "execution_count": null,
   "metadata": {},
   "outputs": [],
   "source": [
    "keras.backend.clear_session()\n",
    "np.random.seed(42)\n",
    "tf.random.set_seed(42)"
   ]
  },
  {
   "cell_type": "code",
   "execution_count": 19,
   "metadata": {},
   "outputs": [
    {
     "name": "stdout",
     "output_type": "stream",
     "text": [
      "Epoch 1/100\n",
      "1407/1407 [==============================] - 3s 2ms/step - loss: 0.2550 - accuracy: 0.9203 - val_loss: 0.3496 - val_accuracy: 0.9030\n",
      "Epoch 2/100\n",
      "1407/1407 [==============================] - 2s 1ms/step - loss: 0.1032 - accuracy: 0.9680 - val_loss: 0.0930 - val_accuracy: 0.9704\n",
      "Epoch 3/100\n",
      "1407/1407 [==============================] - 2s 1ms/step - loss: 0.0691 - accuracy: 0.9786 - val_loss: 0.2041 - val_accuracy: 0.9446\n",
      "Epoch 4/100\n",
      "1407/1407 [==============================] - 2s 1ms/step - loss: 0.0524 - accuracy: 0.9828 - val_loss: 0.0970 - val_accuracy: 0.9732\n",
      "Epoch 5/100\n",
      "1407/1407 [==============================] - 2s 1ms/step - loss: 0.0374 - accuracy: 0.9880 - val_loss: 0.2753 - val_accuracy: 0.9406\n",
      "Epoch 6/100\n",
      "1407/1407 [==============================] - 2s 1ms/step - loss: 0.0313 - accuracy: 0.9891 - val_loss: 0.2094 - val_accuracy: 0.9550\n",
      "Epoch 7/100\n",
      "1407/1407 [==============================] - 2s 2ms/step - loss: 0.0269 - accuracy: 0.9911 - val_loss: 0.0710 - val_accuracy: 0.9820\n",
      "Epoch 8/100\n",
      "1407/1407 [==============================] - 2s 2ms/step - loss: 0.0175 - accuracy: 0.9943 - val_loss: 0.0796 - val_accuracy: 0.9800\n",
      "Epoch 9/100\n",
      "1407/1407 [==============================] - 3s 2ms/step - loss: 0.0146 - accuracy: 0.9950 - val_loss: 0.0794 - val_accuracy: 0.9820\n",
      "Epoch 10/100\n",
      "1407/1407 [==============================] - 3s 2ms/step - loss: 0.0102 - accuracy: 0.9971 - val_loss: 0.0878 - val_accuracy: 0.9814\n",
      "Epoch 11/100\n",
      "1407/1407 [==============================] - 3s 2ms/step - loss: 0.0079 - accuracy: 0.9976 - val_loss: 0.0869 - val_accuracy: 0.9820\n",
      "Epoch 12/100\n",
      "1407/1407 [==============================] - 2s 2ms/step - loss: 0.0086 - accuracy: 0.9971 - val_loss: 0.1121 - val_accuracy: 0.9798\n",
      "Epoch 13/100\n",
      "1407/1407 [==============================] - 3s 2ms/step - loss: 0.0028 - accuracy: 0.9993 - val_loss: 0.0913 - val_accuracy: 0.9814\n",
      "Epoch 14/100\n",
      "1407/1407 [==============================] - 3s 2ms/step - loss: 0.0059 - accuracy: 0.9983 - val_loss: 0.0991 - val_accuracy: 0.9818\n",
      "Epoch 15/100\n",
      "1407/1407 [==============================] - 3s 2ms/step - loss: 0.0065 - accuracy: 0.9979 - val_loss: 0.0918 - val_accuracy: 0.9816\n",
      "Epoch 16/100\n",
      "1407/1407 [==============================] - 2s 2ms/step - loss: 0.0047 - accuracy: 0.9986 - val_loss: 0.0891 - val_accuracy: 0.9834\n",
      "Epoch 17/100\n",
      "1407/1407 [==============================] - 3s 2ms/step - loss: 0.0019 - accuracy: 0.9995 - val_loss: 0.0954 - val_accuracy: 0.9830\n",
      "Epoch 18/100\n",
      "1407/1407 [==============================] - 3s 2ms/step - loss: 7.4501e-04 - accuracy: 0.9998 - val_loss: 0.0965 - val_accuracy: 0.9846\n",
      "Epoch 19/100\n",
      "1407/1407 [==============================] - 2s 2ms/step - loss: 1.7039e-04 - accuracy: 1.0000 - val_loss: 0.0972 - val_accuracy: 0.9840\n",
      "Epoch 20/100\n",
      "1407/1407 [==============================] - 3s 2ms/step - loss: 1.0160e-04 - accuracy: 1.0000 - val_loss: 0.0975 - val_accuracy: 0.9838\n",
      "Epoch 21/100\n",
      "1407/1407 [==============================] - 3s 2ms/step - loss: 7.6048e-05 - accuracy: 1.0000 - val_loss: 0.0980 - val_accuracy: 0.9840\n",
      "Epoch 22/100\n",
      "1407/1407 [==============================] - 3s 2ms/step - loss: 6.5032e-05 - accuracy: 1.0000 - val_loss: 0.0988 - val_accuracy: 0.9840\n",
      "Epoch 23/100\n",
      "1407/1407 [==============================] - 3s 2ms/step - loss: 5.7902e-05 - accuracy: 1.0000 - val_loss: 0.0994 - val_accuracy: 0.9846\n",
      "Epoch 24/100\n",
      "1407/1407 [==============================] - 3s 2ms/step - loss: 5.2308e-05 - accuracy: 1.0000 - val_loss: 0.1003 - val_accuracy: 0.9848\n",
      "Epoch 25/100\n",
      "1407/1407 [==============================] - 3s 2ms/step - loss: 4.8254e-05 - accuracy: 1.0000 - val_loss: 0.1008 - val_accuracy: 0.9848\n",
      "Epoch 26/100\n",
      "1407/1407 [==============================] - 2s 2ms/step - loss: 4.4580e-05 - accuracy: 1.0000 - val_loss: 0.1013 - val_accuracy: 0.9846\n",
      "Epoch 27/100\n",
      "1407/1407 [==============================] - 2s 2ms/step - loss: 4.1670e-05 - accuracy: 1.0000 - val_loss: 0.1018 - val_accuracy: 0.9846\n"
     ]
    }
   ],
   "source": [
    "model = keras.models.Sequential([\n",
    "    keras.layers.Flatten(input_shape=(784,)),\n",
    "    keras.layers.Dense(300, activation=\"relu\"),\n",
    "    keras.layers.Dense(100, activation=\"relu\"),\n",
    "    keras.layers.Dense(10, activation=\"softmax\")\n",
    "])\n",
    "\n",
    "model.compile(loss=\"sparse_categorical_crossentropy\",\n",
    "              optimizer=keras.optimizers.SGD(learning_rate=3e-1),\n",
    "              metrics=[\"accuracy\"])\n",
    "\n",
    "import os                                             \n",
    "run_index = 1 # increment this at every run\n",
    "run_logdir = os.path.join(os.curdir, \"my_mnist_logs\", \"run_{:03d}\".format(run_index))\n",
    "run_logdir          \n",
    "\n",
    "early_stopping_cb = keras.callbacks.EarlyStopping(patience=20)\n",
    "checkpoint_cb = keras.callbacks.ModelCheckpoint(\"my_mnist_model.h5\", save_best_only=True)\n",
    "tensorboard_cb = keras.callbacks.TensorBoard(run_logdir)\n",
    "\n",
    "history = model.fit(X_train, y_train, epochs=100,\n",
    "                    validation_data=(X_valid, y_valid),\n",
    "                    callbacks=[checkpoint_cb, early_stopping_cb, tensorboard_cb])"
   ]
  },
  {
   "cell_type": "code",
   "execution_count": 20,
   "metadata": {},
   "outputs": [
    {
     "name": "stdout",
     "output_type": "stream",
     "text": [
      "625/625 [==============================] - 2s 3ms/step - loss: 0.0760 - accuracy: 0.9805\n"
     ]
    },
    {
     "data": {
      "text/plain": [
       "[0.0759754329919815, 0.9805499911308289]"
      ]
     },
     "execution_count": 20,
     "metadata": {},
     "output_type": "execute_result"
    }
   ],
   "source": [
    "model = keras.models.load_model(\"my_mnist_model.h5\") # rollback to best model\n",
    "model.evaluate(X_test, y_test)"
   ]
  }
 ],
 "metadata": {
  "kernelspec": {
   "display_name": "base",
   "language": "python",
   "name": "python3"
  },
  "language_info": {
   "codemirror_mode": {
    "name": "ipython",
    "version": 3
   },
   "file_extension": ".py",
   "mimetype": "text/x-python",
   "name": "python",
   "nbconvert_exporter": "python",
   "pygments_lexer": "ipython3",
   "version": "3.10.9"
  },
  "orig_nbformat": 4
 },
 "nbformat": 4,
 "nbformat_minor": 2
}
