{
 "cells": [
  {
   "cell_type": "code",
   "execution_count": 1,
   "metadata": {},
   "outputs": [],
   "source": [
    "import numpy as np\n",
    "from sklearn import datasets\n",
    "from sklearn.pipeline import Pipeline\n",
    "from sklearn.preprocessing import StandardScaler\n",
    "from sklearn.svm import LinearSVC\n",
    "from sklearn.svm import SVC\n",
    "from sklearn.model_selection import cross_val_score\n",
    "\n",
    "import random as rd\n",
    "import matplotlib.pyplot as plt\n"
   ]
  },
  {
   "cell_type": "code",
   "execution_count": 18,
   "metadata": {},
   "outputs": [],
   "source": [
    "\"\"\"SVM for MNIST Dataset\"\"\"\n",
    "from joblib import load\n",
    "mnist = load(\"C:/Users/MaxB2/Documents/Machine_Is_Learning/mnist_dataset_784_v1.joblib\")\n",
    "\n",
    "X,y = mnist[\"data\"],mnist[\"target\"]\n",
    "y = y.astype(np.uint8)\n",
    "X_train, X_test, y_train, y_test = X[:60000],X[60000:],y[:60000],y[60000:] \n",
    "\n",
    "from sklearn.model_selection import StratifiedShuffleSplit\n",
    "SS_split = StratifiedShuffleSplit(n_splits=10, test_size=(1/12), random_state=42)\n",
    "for train_index, test_index in SS_split.split(X_train,y_train):\n",
    "    X_train_50k = X_train.loc[train_index]\n",
    "    y_train_50k = y_train.loc[train_index]\n",
    "    X_train_10k = X_train.loc[test_index]\n",
    "    y_train_10k = y_train.loc[test_index]\n",
    "#   X_train_10k , y_train_10k"
   ]
  },
  {
   "cell_type": "code",
   "execution_count": 19,
   "metadata": {},
   "outputs": [],
   "source": [
    "X_train_10k = X_train_10k.reset_index(drop=True)\n",
    "y_train_10k = y_train_10k.reset_index(drop=True)"
   ]
  },
  {
   "cell_type": "code",
   "execution_count": 20,
   "metadata": {},
   "outputs": [
    {
     "data": {
      "text/html": [
       "<div>\n",
       "<style scoped>\n",
       "    .dataframe tbody tr th:only-of-type {\n",
       "        vertical-align: middle;\n",
       "    }\n",
       "\n",
       "    .dataframe tbody tr th {\n",
       "        vertical-align: top;\n",
       "    }\n",
       "\n",
       "    .dataframe thead th {\n",
       "        text-align: right;\n",
       "    }\n",
       "</style>\n",
       "<table border=\"1\" class=\"dataframe\">\n",
       "  <thead>\n",
       "    <tr style=\"text-align: right;\">\n",
       "      <th></th>\n",
       "      <th>Normal Proportion</th>\n",
       "      <th>Strat 10k Test Proportion</th>\n",
       "    </tr>\n",
       "  </thead>\n",
       "  <tbody>\n",
       "    <tr>\n",
       "      <th>0</th>\n",
       "      <td>0.112529</td>\n",
       "      <td>0.1124</td>\n",
       "    </tr>\n",
       "    <tr>\n",
       "      <th>1</th>\n",
       "      <td>0.104186</td>\n",
       "      <td>0.1044</td>\n",
       "    </tr>\n",
       "    <tr>\n",
       "      <th>2</th>\n",
       "      <td>0.102014</td>\n",
       "      <td>0.1022</td>\n",
       "    </tr>\n",
       "    <tr>\n",
       "      <th>3</th>\n",
       "      <td>0.099857</td>\n",
       "      <td>0.0992</td>\n",
       "    </tr>\n",
       "    <tr>\n",
       "      <th>4</th>\n",
       "      <td>0.099400</td>\n",
       "      <td>0.0992</td>\n",
       "    </tr>\n",
       "    <tr>\n",
       "      <th>5</th>\n",
       "      <td>0.098614</td>\n",
       "      <td>0.0988</td>\n",
       "    </tr>\n",
       "    <tr>\n",
       "      <th>6</th>\n",
       "      <td>0.098229</td>\n",
       "      <td>0.0986</td>\n",
       "    </tr>\n",
       "    <tr>\n",
       "      <th>7</th>\n",
       "      <td>0.097500</td>\n",
       "      <td>0.0974</td>\n",
       "    </tr>\n",
       "    <tr>\n",
       "      <th>8</th>\n",
       "      <td>0.097486</td>\n",
       "      <td>0.0974</td>\n",
       "    </tr>\n",
       "    <tr>\n",
       "      <th>9</th>\n",
       "      <td>0.090186</td>\n",
       "      <td>0.0904</td>\n",
       "    </tr>\n",
       "  </tbody>\n",
       "</table>\n",
       "</div>"
      ],
      "text/plain": [
       "   Normal Proportion  Strat 10k Test Proportion\n",
       "0           0.112529                     0.1124\n",
       "1           0.104186                     0.1044\n",
       "2           0.102014                     0.1022\n",
       "3           0.099857                     0.0992\n",
       "4           0.099400                     0.0992\n",
       "5           0.098614                     0.0988\n",
       "6           0.098229                     0.0986\n",
       "7           0.097500                     0.0974\n",
       "8           0.097486                     0.0974\n",
       "9           0.090186                     0.0904"
      ]
     },
     "execution_count": 20,
     "metadata": {},
     "output_type": "execute_result"
    }
   ],
   "source": [
    "import pandas as pd\n",
    "\n",
    "# The proportions of the income_cat groups are defined as the following fractions\n",
    "total_digit_counts = mnist[\"target\"].value_counts() / len(mnist[\"target\"])\n",
    "strat_test_value_counts = y_train_10k.value_counts()/ len(X_train_10k)\n",
    "# The absolute value of their respective errors are described as \n",
    "\n",
    "# Convert the Series object to a DataFrame with appropriate column names\n",
    "df_comparison = pd.DataFrame({\n",
    "    \"Normal Proportion\": total_digit_counts.values,\n",
    "    \"Strat 10k Test Proportion\": strat_test_value_counts.values,\n",
    "})\n",
    "df_comparison"
   ]
  },
  {
   "cell_type": "code",
   "execution_count": 21,
   "metadata": {},
   "outputs": [
    {
     "data": {
      "text/html": [
       "<style>#sk-container-id-2 {color: black;background-color: white;}#sk-container-id-2 pre{padding: 0;}#sk-container-id-2 div.sk-toggleable {background-color: white;}#sk-container-id-2 label.sk-toggleable__label {cursor: pointer;display: block;width: 100%;margin-bottom: 0;padding: 0.3em;box-sizing: border-box;text-align: center;}#sk-container-id-2 label.sk-toggleable__label-arrow:before {content: \"▸\";float: left;margin-right: 0.25em;color: #696969;}#sk-container-id-2 label.sk-toggleable__label-arrow:hover:before {color: black;}#sk-container-id-2 div.sk-estimator:hover label.sk-toggleable__label-arrow:before {color: black;}#sk-container-id-2 div.sk-toggleable__content {max-height: 0;max-width: 0;overflow: hidden;text-align: left;background-color: #f0f8ff;}#sk-container-id-2 div.sk-toggleable__content pre {margin: 0.2em;color: black;border-radius: 0.25em;background-color: #f0f8ff;}#sk-container-id-2 input.sk-toggleable__control:checked~div.sk-toggleable__content {max-height: 200px;max-width: 100%;overflow: auto;}#sk-container-id-2 input.sk-toggleable__control:checked~label.sk-toggleable__label-arrow:before {content: \"▾\";}#sk-container-id-2 div.sk-estimator input.sk-toggleable__control:checked~label.sk-toggleable__label {background-color: #d4ebff;}#sk-container-id-2 div.sk-label input.sk-toggleable__control:checked~label.sk-toggleable__label {background-color: #d4ebff;}#sk-container-id-2 input.sk-hidden--visually {border: 0;clip: rect(1px 1px 1px 1px);clip: rect(1px, 1px, 1px, 1px);height: 1px;margin: -1px;overflow: hidden;padding: 0;position: absolute;width: 1px;}#sk-container-id-2 div.sk-estimator {font-family: monospace;background-color: #f0f8ff;border: 1px dotted black;border-radius: 0.25em;box-sizing: border-box;margin-bottom: 0.5em;}#sk-container-id-2 div.sk-estimator:hover {background-color: #d4ebff;}#sk-container-id-2 div.sk-parallel-item::after {content: \"\";width: 100%;border-bottom: 1px solid gray;flex-grow: 1;}#sk-container-id-2 div.sk-label:hover label.sk-toggleable__label {background-color: #d4ebff;}#sk-container-id-2 div.sk-serial::before {content: \"\";position: absolute;border-left: 1px solid gray;box-sizing: border-box;top: 0;bottom: 0;left: 50%;z-index: 0;}#sk-container-id-2 div.sk-serial {display: flex;flex-direction: column;align-items: center;background-color: white;padding-right: 0.2em;padding-left: 0.2em;position: relative;}#sk-container-id-2 div.sk-item {position: relative;z-index: 1;}#sk-container-id-2 div.sk-parallel {display: flex;align-items: stretch;justify-content: center;background-color: white;position: relative;}#sk-container-id-2 div.sk-item::before, #sk-container-id-2 div.sk-parallel-item::before {content: \"\";position: absolute;border-left: 1px solid gray;box-sizing: border-box;top: 0;bottom: 0;left: 50%;z-index: -1;}#sk-container-id-2 div.sk-parallel-item {display: flex;flex-direction: column;z-index: 1;position: relative;background-color: white;}#sk-container-id-2 div.sk-parallel-item:first-child::after {align-self: flex-end;width: 50%;}#sk-container-id-2 div.sk-parallel-item:last-child::after {align-self: flex-start;width: 50%;}#sk-container-id-2 div.sk-parallel-item:only-child::after {width: 0;}#sk-container-id-2 div.sk-dashed-wrapped {border: 1px dashed gray;margin: 0 0.4em 0.5em 0.4em;box-sizing: border-box;padding-bottom: 0.4em;background-color: white;}#sk-container-id-2 div.sk-label label {font-family: monospace;font-weight: bold;display: inline-block;line-height: 1.2em;}#sk-container-id-2 div.sk-label-container {text-align: center;}#sk-container-id-2 div.sk-container {/* jupyter's `normalize.less` sets `[hidden] { display: none; }` but bootstrap.min.css set `[hidden] { display: none !important; }` so we also need the `!important` here to be able to override the default hidden behavior on the sphinx rendered scikit-learn.org. See: https://github.com/scikit-learn/scikit-learn/issues/21755 */display: inline-block !important;position: relative;}#sk-container-id-2 div.sk-text-repr-fallback {display: none;}</style><div id=\"sk-container-id-2\" class=\"sk-top-container\"><div class=\"sk-text-repr-fallback\"><pre>Pipeline(steps=[(&#x27;scaler&#x27;, StandardScaler()),\n",
       "                (&#x27;svc&#x27;, OneVsRestClassifier(estimator=SVC()))])</pre><b>In a Jupyter environment, please rerun this cell to show the HTML representation or trust the notebook. <br />On GitHub, the HTML representation is unable to render, please try loading this page with nbviewer.org.</b></div><div class=\"sk-container\" hidden><div class=\"sk-item sk-dashed-wrapped\"><div class=\"sk-label-container\"><div class=\"sk-label sk-toggleable\"><input class=\"sk-toggleable__control sk-hidden--visually\" id=\"sk-estimator-id-6\" type=\"checkbox\" ><label for=\"sk-estimator-id-6\" class=\"sk-toggleable__label sk-toggleable__label-arrow\">Pipeline</label><div class=\"sk-toggleable__content\"><pre>Pipeline(steps=[(&#x27;scaler&#x27;, StandardScaler()),\n",
       "                (&#x27;svc&#x27;, OneVsRestClassifier(estimator=SVC()))])</pre></div></div></div><div class=\"sk-serial\"><div class=\"sk-item\"><div class=\"sk-estimator sk-toggleable\"><input class=\"sk-toggleable__control sk-hidden--visually\" id=\"sk-estimator-id-7\" type=\"checkbox\" ><label for=\"sk-estimator-id-7\" class=\"sk-toggleable__label sk-toggleable__label-arrow\">StandardScaler</label><div class=\"sk-toggleable__content\"><pre>StandardScaler()</pre></div></div></div><div class=\"sk-item sk-dashed-wrapped\"><div class=\"sk-label-container\"><div class=\"sk-label sk-toggleable\"><input class=\"sk-toggleable__control sk-hidden--visually\" id=\"sk-estimator-id-8\" type=\"checkbox\" ><label for=\"sk-estimator-id-8\" class=\"sk-toggleable__label sk-toggleable__label-arrow\">svc: OneVsRestClassifier</label><div class=\"sk-toggleable__content\"><pre>OneVsRestClassifier(estimator=SVC())</pre></div></div></div><div class=\"sk-parallel\"><div class=\"sk-parallel-item\"><div class=\"sk-item\"><div class=\"sk-label-container\"><div class=\"sk-label sk-toggleable\"><input class=\"sk-toggleable__control sk-hidden--visually\" id=\"sk-estimator-id-9\" type=\"checkbox\" ><label for=\"sk-estimator-id-9\" class=\"sk-toggleable__label sk-toggleable__label-arrow\">estimator: SVC</label><div class=\"sk-toggleable__content\"><pre>SVC()</pre></div></div></div><div class=\"sk-serial\"><div class=\"sk-item\"><div class=\"sk-estimator sk-toggleable\"><input class=\"sk-toggleable__control sk-hidden--visually\" id=\"sk-estimator-id-10\" type=\"checkbox\" ><label for=\"sk-estimator-id-10\" class=\"sk-toggleable__label sk-toggleable__label-arrow\">SVC</label><div class=\"sk-toggleable__content\"><pre>SVC()</pre></div></div></div></div></div></div></div></div></div></div></div></div>"
      ],
      "text/plain": [
       "Pipeline(steps=[('scaler', StandardScaler()),\n",
       "                ('svc', OneVsRestClassifier(estimator=SVC()))])"
      ]
     },
     "execution_count": 21,
     "metadata": {},
     "output_type": "execute_result"
    }
   ],
   "source": [
    "from sklearn.multiclass import OneVsRestClassifier\n",
    "#Best Paramaters:  {'svc__estimator__C': 0.07, 'svc__estimator__gamma': 0.1, 'svc__estimator__kernel': 'poly'}\n",
    "#from sklearn.svm import SVC\n",
    "\n",
    "svc_ovr = Pipeline([\n",
    "    (\"scaler\",StandardScaler()),\n",
    "    (\"svc\",OneVsRestClassifier(SVC()))\n",
    "])\n",
    "\n",
    "svc_ovr.fit(X_train_10k,y_train_10k)"
   ]
  },
  {
   "cell_type": "code",
   "execution_count": 26,
   "metadata": {},
   "outputs": [
    {
     "name": "stdout",
     "output_type": "stream",
     "text": [
      "Best Paramaters:  {'svc__estimator__C': 0.07, 'svc__estimator__gamma': 0.1, 'svc__estimator__kernel': 'poly'}\n",
      "\n",
      "nan {'svc__estimator__C': 0.07, 'svc__estimator__gamma': 0.1, 'svc__estimator__kernel': 'poly'}\n",
      "nan {'svc__estimator__C': 0.07, 'svc__estimator__gamma': 0.3, 'svc__estimator__kernel': 'poly'}\n",
      "nan {'svc__estimator__C': 0.07, 'svc__estimator__gamma': 0.5, 'svc__estimator__kernel': 'poly'}\n",
      "nan {'svc__estimator__C': 0.07, 'svc__estimator__gamma': 0.6, 'svc__estimator__kernel': 'poly'}\n",
      "nan {'svc__estimator__C': 0.1, 'svc__estimator__gamma': 0.1, 'svc__estimator__kernel': 'poly'}\n",
      "nan {'svc__estimator__C': 0.1, 'svc__estimator__gamma': 0.3, 'svc__estimator__kernel': 'poly'}\n",
      "nan {'svc__estimator__C': 0.1, 'svc__estimator__gamma': 0.5, 'svc__estimator__kernel': 'poly'}\n",
      "nan {'svc__estimator__C': 0.1, 'svc__estimator__gamma': 0.6, 'svc__estimator__kernel': 'poly'}\n",
      "nan {'svc__estimator__C': 0.13, 'svc__estimator__gamma': 0.1, 'svc__estimator__kernel': 'poly'}\n",
      "nan {'svc__estimator__C': 0.13, 'svc__estimator__gamma': 0.3, 'svc__estimator__kernel': 'poly'}\n",
      "nan {'svc__estimator__C': 0.13, 'svc__estimator__gamma': 0.5, 'svc__estimator__kernel': 'poly'}\n",
      "nan {'svc__estimator__C': 0.13, 'svc__estimator__gamma': 0.6, 'svc__estimator__kernel': 'poly'}\n"
     ]
    },
    {
     "name": "stderr",
     "output_type": "stream",
     "text": [
      "C:\\Users\\MaxB2\\AppData\\Local\\Temp\\ipykernel_10088\\3361974589.py:20: RuntimeWarning: invalid value encountered in sqrt\n",
      "  print(np.sqrt(-mean_score),params)\n"
     ]
    }
   ],
   "source": [
    "# from sklearn.model_selection import GridSearchCV as GS\n",
    "param_grid = [\n",
    "    {\"svc__estimator__kernel\":['poly'],\n",
    "     \"svc__estimator__gamma\":[0.1,0.3,0.5,0.6],\n",
    "     \"svc__estimator__C\":[0.07,0.1,0.13]},\n",
    "]\n",
    "grid_search = GS(svc_ovr,\n",
    "                 param_grid,\n",
    "                 cv=3,\n",
    "                 scoring=\"accuracy\",\n",
    "                 return_train_score=True\n",
    ")\n",
    "\n",
    "grid_search.fit(X_train_10k,y_train_10k) # Takes a while\n",
    "\n",
    "print(\"Best Paramaters: \", grid_search.best_params_)\n",
    "print(\"\")\n",
    "cvres = grid_search.cv_results_\n",
    "for mean_score, params in zip (cvres[\"mean_test_score\"],cvres[\"params\"]):\n",
    "    print(np.sqrt(-mean_score),params)"
   ]
  },
  {
   "cell_type": "code",
   "execution_count": 29,
   "metadata": {},
   "outputs": [
    {
     "data": {
      "text/plain": [
       "0.9535"
      ]
     },
     "execution_count": 29,
     "metadata": {},
     "output_type": "execute_result"
    }
   ],
   "source": [
    "grid_search.best_estimator_.score(X_train,y_train)"
   ]
  },
  {
   "cell_type": "code",
   "execution_count": 30,
   "metadata": {},
   "outputs": [
    {
     "data": {
      "text/plain": [
       "0.9519"
      ]
     },
     "execution_count": 30,
     "metadata": {},
     "output_type": "execute_result"
    }
   ],
   "source": [
    "grid_search.best_estimator_.score(X_test,y_test)"
   ]
  }
 ],
 "metadata": {
  "kernelspec": {
   "display_name": "base",
   "language": "python",
   "name": "python3"
  },
  "language_info": {
   "codemirror_mode": {
    "name": "ipython",
    "version": 3
   },
   "file_extension": ".py",
   "mimetype": "text/x-python",
   "name": "python",
   "nbconvert_exporter": "python",
   "pygments_lexer": "ipython3",
   "version": "3.10.9"
  },
  "orig_nbformat": 4
 },
 "nbformat": 4,
 "nbformat_minor": 2
}
